{
  "nbformat": 4,
  "nbformat_minor": 0,
  "metadata": {
    "colab": {
      "provenance": [],
      "gpuType": "T4"
    },
    "kernelspec": {
      "name": "python3",
      "display_name": "Python 3"
    },
    "language_info": {
      "name": "python"
    },
    "accelerator": "GPU"
  },
  "cells": [
    {
      "cell_type": "code",
      "execution_count": 1,
      "metadata": {
        "colab": {
          "base_uri": "https://localhost:8080/"
        },
        "id": "76jg4is6g6o5",
        "outputId": "85928052-abfd-4629-a90c-832be2199866"
      },
      "outputs": [
        {
          "output_type": "stream",
          "name": "stdout",
          "text": [
            "Requirement already satisfied: torch in /usr/local/lib/python3.12/dist-packages (2.8.0+cu126)\n",
            "Requirement already satisfied: torchvision in /usr/local/lib/python3.12/dist-packages (0.23.0+cu126)\n",
            "Requirement already satisfied: torchsummary in /usr/local/lib/python3.12/dist-packages (1.5.1)\n",
            "Requirement already satisfied: numpy in /usr/local/lib/python3.12/dist-packages (2.0.2)\n",
            "Requirement already satisfied: matplotlib in /usr/local/lib/python3.12/dist-packages (3.10.0)\n",
            "Requirement already satisfied: albumentations in /usr/local/lib/python3.12/dist-packages (2.0.8)\n",
            "Requirement already satisfied: tqdm in /usr/local/lib/python3.12/dist-packages (4.67.1)\n",
            "Requirement already satisfied: filelock in /usr/local/lib/python3.12/dist-packages (from torch) (3.19.1)\n",
            "Requirement already satisfied: typing-extensions>=4.10.0 in /usr/local/lib/python3.12/dist-packages (from torch) (4.15.0)\n",
            "Requirement already satisfied: setuptools in /usr/local/lib/python3.12/dist-packages (from torch) (75.2.0)\n",
            "Requirement already satisfied: sympy>=1.13.3 in /usr/local/lib/python3.12/dist-packages (from torch) (1.13.3)\n",
            "Requirement already satisfied: networkx in /usr/local/lib/python3.12/dist-packages (from torch) (3.5)\n",
            "Requirement already satisfied: jinja2 in /usr/local/lib/python3.12/dist-packages (from torch) (3.1.6)\n",
            "Requirement already satisfied: fsspec in /usr/local/lib/python3.12/dist-packages (from torch) (2025.3.0)\n",
            "Requirement already satisfied: nvidia-cuda-nvrtc-cu12==12.6.77 in /usr/local/lib/python3.12/dist-packages (from torch) (12.6.77)\n",
            "Requirement already satisfied: nvidia-cuda-runtime-cu12==12.6.77 in /usr/local/lib/python3.12/dist-packages (from torch) (12.6.77)\n",
            "Requirement already satisfied: nvidia-cuda-cupti-cu12==12.6.80 in /usr/local/lib/python3.12/dist-packages (from torch) (12.6.80)\n",
            "Requirement already satisfied: nvidia-cudnn-cu12==9.10.2.21 in /usr/local/lib/python3.12/dist-packages (from torch) (9.10.2.21)\n",
            "Requirement already satisfied: nvidia-cublas-cu12==12.6.4.1 in /usr/local/lib/python3.12/dist-packages (from torch) (12.6.4.1)\n",
            "Requirement already satisfied: nvidia-cufft-cu12==11.3.0.4 in /usr/local/lib/python3.12/dist-packages (from torch) (11.3.0.4)\n",
            "Requirement already satisfied: nvidia-curand-cu12==10.3.7.77 in /usr/local/lib/python3.12/dist-packages (from torch) (10.3.7.77)\n",
            "Requirement already satisfied: nvidia-cusolver-cu12==11.7.1.2 in /usr/local/lib/python3.12/dist-packages (from torch) (11.7.1.2)\n",
            "Requirement already satisfied: nvidia-cusparse-cu12==12.5.4.2 in /usr/local/lib/python3.12/dist-packages (from torch) (12.5.4.2)\n",
            "Requirement already satisfied: nvidia-cusparselt-cu12==0.7.1 in /usr/local/lib/python3.12/dist-packages (from torch) (0.7.1)\n",
            "Requirement already satisfied: nvidia-nccl-cu12==2.27.3 in /usr/local/lib/python3.12/dist-packages (from torch) (2.27.3)\n",
            "Requirement already satisfied: nvidia-nvtx-cu12==12.6.77 in /usr/local/lib/python3.12/dist-packages (from torch) (12.6.77)\n",
            "Requirement already satisfied: nvidia-nvjitlink-cu12==12.6.85 in /usr/local/lib/python3.12/dist-packages (from torch) (12.6.85)\n",
            "Requirement already satisfied: nvidia-cufile-cu12==1.11.1.6 in /usr/local/lib/python3.12/dist-packages (from torch) (1.11.1.6)\n",
            "Requirement already satisfied: triton==3.4.0 in /usr/local/lib/python3.12/dist-packages (from torch) (3.4.0)\n",
            "Requirement already satisfied: pillow!=8.3.*,>=5.3.0 in /usr/local/lib/python3.12/dist-packages (from torchvision) (11.3.0)\n",
            "Requirement already satisfied: contourpy>=1.0.1 in /usr/local/lib/python3.12/dist-packages (from matplotlib) (1.3.3)\n",
            "Requirement already satisfied: cycler>=0.10 in /usr/local/lib/python3.12/dist-packages (from matplotlib) (0.12.1)\n",
            "Requirement already satisfied: fonttools>=4.22.0 in /usr/local/lib/python3.12/dist-packages (from matplotlib) (4.60.0)\n",
            "Requirement already satisfied: kiwisolver>=1.3.1 in /usr/local/lib/python3.12/dist-packages (from matplotlib) (1.4.9)\n",
            "Requirement already satisfied: packaging>=20.0 in /usr/local/lib/python3.12/dist-packages (from matplotlib) (25.0)\n",
            "Requirement already satisfied: pyparsing>=2.3.1 in /usr/local/lib/python3.12/dist-packages (from matplotlib) (3.2.4)\n",
            "Requirement already satisfied: python-dateutil>=2.7 in /usr/local/lib/python3.12/dist-packages (from matplotlib) (2.9.0.post0)\n",
            "Requirement already satisfied: scipy>=1.10.0 in /usr/local/lib/python3.12/dist-packages (from albumentations) (1.16.2)\n",
            "Requirement already satisfied: PyYAML in /usr/local/lib/python3.12/dist-packages (from albumentations) (6.0.2)\n",
            "Requirement already satisfied: pydantic>=2.9.2 in /usr/local/lib/python3.12/dist-packages (from albumentations) (2.11.9)\n",
            "Requirement already satisfied: albucore==0.0.24 in /usr/local/lib/python3.12/dist-packages (from albumentations) (0.0.24)\n",
            "Requirement already satisfied: opencv-python-headless>=4.9.0.80 in /usr/local/lib/python3.12/dist-packages (from albumentations) (4.12.0.88)\n",
            "Requirement already satisfied: stringzilla>=3.10.4 in /usr/local/lib/python3.12/dist-packages (from albucore==0.0.24->albumentations) (4.0.11)\n",
            "Requirement already satisfied: simsimd>=5.9.2 in /usr/local/lib/python3.12/dist-packages (from albucore==0.0.24->albumentations) (6.5.3)\n",
            "Requirement already satisfied: annotated-types>=0.6.0 in /usr/local/lib/python3.12/dist-packages (from pydantic>=2.9.2->albumentations) (0.7.0)\n",
            "Requirement already satisfied: pydantic-core==2.33.2 in /usr/local/lib/python3.12/dist-packages (from pydantic>=2.9.2->albumentations) (2.33.2)\n",
            "Requirement already satisfied: typing-inspection>=0.4.0 in /usr/local/lib/python3.12/dist-packages (from pydantic>=2.9.2->albumentations) (0.4.1)\n",
            "Requirement already satisfied: six>=1.5 in /usr/local/lib/python3.12/dist-packages (from python-dateutil>=2.7->matplotlib) (1.17.0)\n",
            "Requirement already satisfied: mpmath<1.4,>=1.1.0 in /usr/local/lib/python3.12/dist-packages (from sympy>=1.13.3->torch) (1.3.0)\n",
            "Requirement already satisfied: MarkupSafe>=2.0 in /usr/local/lib/python3.12/dist-packages (from jinja2->torch) (3.0.2)\n"
          ]
        }
      ],
      "source": [
        "!pip install torch torchvision torchsummary numpy matplotlib albumentations tqdm"
      ]
    },
    {
      "cell_type": "code",
      "source": [
        "import math\n",
        "import numpy\n",
        "import cv2\n",
        "import torch\n",
        "from torchvision import datasets\n",
        "from torchvision import transforms as tf\n",
        "from albumentations import *\n",
        "from albumentations.pytorch import ToTensorV2\n",
        "\n",
        "class AlbumentationTransformations():\n",
        "\n",
        "  def __init__(self, means, stdevs):\n",
        "    \"\"\"\n",
        "    Initialize the AlbumentationTransformations class.\n",
        "    Args:\n",
        "        means (list): Mean values for normalization (per channel, e.g., [0.5, 0.5, 0.5] for RGB).\n",
        "        stdevs (list): Standard deviation values for normalization (per channel).\n",
        "    \"\"\"\n",
        "    self.means = numpy.array(means)   # Store the means as a numpy array\n",
        "    self.stdevs = numpy.array(stdevs) # Store the stds as a numpy array\n",
        "\n",
        "    patch_size = 32  # Image patch size (not directly used here, maybe for reference)\n",
        "\n",
        "    # Define a composition of albumentations transformations\n",
        "    self.album_transforms = Compose([\n",
        "      HorizontalFlip(p=0.5),   # Randomly flip the image horizontally with 50% probability\n",
        "      ShiftScaleRotate(p=0.5), # Randomly shift, scale, and rotate the image with 50% probability\n",
        "      CoarseDropout(           # Randomly mask out a rectangular region in the image\n",
        "        max_holes=1,           # Max number of regions to drop\n",
        "        max_height=16,         # Max height of the dropout region\n",
        "        max_width=16,          # Max width of the dropout region\n",
        "        min_holes=1,           # Min number of regions to drop\n",
        "        min_height=16,         # Min height of the dropout region\n",
        "        min_width=16,          # Min width of the dropout region\n",
        "        fill_value=self.means, # Fill the dropped-out region with the mean value\n",
        "        mask_fill_value=None   # Not using a mask fill value\n",
        "      ),\n",
        "      Normalize(mean=self.means, std=self.stdevs), # Normalize the image using provided means and stds\n",
        "      ToTensorV2()             # Convert the augmented image into a PyTorch tensor\n",
        "    ])\n",
        "\n",
        "  def __call__(self, img):\n",
        "      \"\"\"\n",
        "      Make the class callable like a function.\n",
        "      Args:\n",
        "          img (PIL Image / ndarray): Input image\n",
        "      Returns:\n",
        "          Tensor: Transformed image as a PyTorch tensor\n",
        "      \"\"\"\n",
        "      img = numpy.array(img)  # Convert PIL image to numpy array (albumentations works with numpy arrays)\n",
        "      img = self.album_transforms(image=img)['image']  # Apply albumentations transformations\n",
        "      return img\n",
        ""
      ],
      "metadata": {
        "id": "22QliKsxlRXL"
      },
      "execution_count": 33,
      "outputs": []
    },
    {
      "cell_type": "code",
      "source": [
        "\"\"\"\n",
        "Data Loader Module for CIFAR-10 Dataset\n",
        "\n",
        "This module provides functions to download, preprocess, and create data loaders\n",
        "for the CIFAR-10 dataset with support for data augmentation and GPU acceleration.\n",
        "\"\"\"\n",
        "\n",
        "import math\n",
        "import numpy\n",
        "import torch\n",
        "from torchvision import datasets\n",
        "from torchvision import transforms as tf\n",
        "\n",
        "\n",
        "def download_CIFAR10_dataset(data_path, train_transforms, test_transforms):\n",
        "    \"\"\"\n",
        "    Downloads and loads the CIFAR-10 dataset with specified transforms.\n",
        "\n",
        "    Args:\n",
        "        data_path (str): Path where the dataset will be stored/downloaded\n",
        "        train_transforms: Transformations to apply to training data\n",
        "        test_transforms: Transformations to apply to test data\n",
        "\n",
        "    Returns:\n",
        "        tuple: (train_dataset, test_dataset) - PyTorch dataset objects\n",
        "    \"\"\"\n",
        "    # Download and load training dataset with specified transforms\n",
        "    train = datasets.CIFAR10(data_path, train=True, download=True, transform=train_transforms)\n",
        "    # Download and load test dataset with specified transforms\n",
        "    test = datasets.CIFAR10(data_path, train=False, download=True, transform=test_transforms)\n",
        "\n",
        "    return train, test\n",
        "\n",
        "\n",
        "def generate_transforms(means, stdevs):\n",
        "    \"\"\"\n",
        "    Generates transformation pipelines for training and test data.\n",
        "\n",
        "    Args:\n",
        "        means (list): Mean values for normalization [R, G, B]\n",
        "        stdevs (list): Standard deviation values for normalization [R, G, B]\n",
        "\n",
        "    Returns:\n",
        "        tuple: (train_transforms, test_transforms) - Transform objects\n",
        "    \"\"\"\n",
        "    # Use Albumentation for advanced data augmentation on training data\n",
        "    train_transforms = AlbumentationTransformations(means, stdevs)\n",
        "    # Simple transforms for test data: convert to tensor and normalize\n",
        "    test_transforms = tf.Compose([tf.ToTensor(), tf.Normalize(means, stdevs)])\n",
        "\n",
        "    return train_transforms, test_transforms\n",
        "\n",
        "\n",
        "def generate_train_test_loader(data_path, means, stdevs, batch_size):\n",
        "    \"\"\"\n",
        "    Creates complete data loaders for training and testing with proper configuration.\n",
        "\n",
        "    Args:\n",
        "        data_path (str): Path where the dataset will be stored\n",
        "        SEED (int): Random seed for reproducibility\n",
        "        means (list): Mean values for normalization [R, G, B]\n",
        "        stdevs (list): Standard deviation values for normalization [R, G, B]\n",
        "        batch_size (int): Number of samples per batch\n",
        "\n",
        "    Returns:\n",
        "        tuple: (train_loader, test_loader) - PyTorch DataLoader objects\n",
        "    \"\"\"\n",
        "    # Generate transformation pipelines for train and test data\n",
        "    train_transforms, test_transforms = generate_transforms(means, stdevs)\n",
        "    # Download and load the CIFAR-10 dataset\n",
        "    train, test = download_CIFAR10_dataset(data_path, train_transforms, test_transforms)\n",
        "\n",
        "    # Check if CUDA (GPU) is available for acceleration\n",
        "    cuda = torch.cuda.is_available()\n",
        "\n",
        "    # Set random seed for reproducibility across runs\n",
        "    torch.manual_seed(1)\n",
        "\n",
        "    if cuda:\n",
        "        # Set CUDA seed for GPU operations reproducibility\n",
        "        torch.cuda.manual_seed(1)\n",
        "\n",
        "    # Configure dataloader arguments based on CUDA availability\n",
        "    # CUDA-enabled: Use multiple workers, pin memory for faster GPU transfer\n",
        "    # CPU-only: Use single worker, smaller batch size\n",
        "    dataloader_args = dict(shuffle=True, batch_size=batch_size, num_workers=4, pin_memory=True) if cuda else dict(shuffle=True, batch_size=128)\n",
        "\n",
        "    # Create training data loader with configured arguments\n",
        "    train_loader = torch.utils.data.DataLoader(train, **dataloader_args)\n",
        "\n",
        "    # Create test data loader with configured arguments\n",
        "    test_loader = torch.utils.data.DataLoader(test, **dataloader_args)\n",
        "\n",
        "    return train_loader, test_loader\n"
      ],
      "metadata": {
        "id": "SJcDSCD3iOcD"
      },
      "execution_count": 32,
      "outputs": []
    },
    {
      "cell_type": "code",
      "source": [
        "means, stdevs = (0.4914, 0.4822, 0.4465), (0.2023, 0.1994, 0.2010)\n",
        "DATA_PATH = './data'\n",
        "CIFAR10_CLASS_LABELS = (\"airplane\", \"automobile\", \"bird\", \"cat\", \"deer\", \"dog\", \"frog\", \"horse\", \"ship\", \"truck\")\n",
        "\n",
        "train_loader, test_loader = generate_train_test_loader(DATA_PATH, means, stdevs, batch_size=128)"
      ],
      "metadata": {
        "colab": {
          "base_uri": "https://localhost:8080/"
        },
        "id": "MQEEvkVJiMV8",
        "outputId": "51953c4a-30a5-46ee-bfb8-a0da54d74b50"
      },
      "execution_count": 9,
      "outputs": [
        {
          "output_type": "stream",
          "name": "stderr",
          "text": [
            "100%|██████████| 170M/170M [00:03<00:00, 53.9MB/s]\n"
          ]
        }
      ]
    },
    {
      "cell_type": "code",
      "source": [
        "import torch\n",
        "import torch.nn as nn\n",
        "import torch.nn.functional as F\n",
        "import torch.optim as optim\n",
        "from torchvision import datasets, transforms\n",
        "import math\n",
        "import numpy\n",
        "import glob\n",
        "import torchvision\n",
        "import matplotlib.pyplot as plt\n",
        "import io\n",
        "import glob\n",
        "import os\n",
        "from shutil import move, copy\n",
        "from os.path import join\n",
        "from os import listdir, rmdir\n",
        "import time\n",
        "import numpy as np\n",
        "import random\n",
        "from tqdm import tqdm\n",
        "\n",
        "def denormalize(tensor, mean, std):\n",
        "  single_img = False\n",
        "  if tensor.ndimension() == 3:\n",
        "    single_img = True\n",
        "    tensor = tensor[None,:,:,:]\n",
        "\n",
        "  if not tensor.ndimension() == 4:\n",
        "    raise TypeError('tensor should be 4D')\n",
        "\n",
        "  mean = torch.FloatTensor(mean).view(1, 3, 1, 1).expand_as(tensor).to(tensor.device)\n",
        "  std = torch.FloatTensor(std).view(1, 3, 1, 1).expand_as(tensor).to(tensor.device)\n",
        "  ret = tensor.mul(std).add(mean)\n",
        "  return ret[0] if single_img else ret\n",
        "\n",
        "def imshow(img,mean, std):\n",
        "\timg = denormalize(img,mean, std)\n",
        "\tnpimg = img.numpy()\n",
        "\tplt.imshow(numpy.transpose(npimg, (1, 2, 0)))\n",
        "\n",
        "def GetCorrectPredCount(pPrediction, pLabels):\n",
        "    \"\"\"Counts the number of correct predictions made, i.e. prediction=ground truth\n",
        "\n",
        "    Args:\n",
        "        pPrediction (tensor): prediction made by the model\n",
        "        pLabels (tensor): ground truth\n",
        "\n",
        "    Returns:\n",
        "        int: count of correct predictions\n",
        "    \"\"\"\n",
        "    return pPrediction.argmax(dim=1, keepdim=True).eq(pLabels.view_as(pPrediction.argmax(dim=1, keepdim=True))).sum().item()\n",
        "\n",
        "def train(model, device, train_loader, optimizer, train_acc, train_losses):\n",
        "    \"\"\"Trains the model\n",
        "\n",
        "    Args:\n",
        "        model (torch.nn.Module): pytorch model\n",
        "        device (_type_): cuda or cpu\n",
        "        train_loader (torch.utils.data.DataLoader): data iterator on training data\n",
        "        optimizer (torch.optim): optimizer function\n",
        "        train_acc (list): stores accuracy of each batch\n",
        "        train_losses (list): stores loss of each batch\n",
        "    \"\"\"\n",
        "    model.train()\n",
        "    pbar = tqdm(train_loader)\n",
        "\n",
        "    train_loss = 0\n",
        "    correct = 0\n",
        "    processed = 0\n",
        "\n",
        "    for batch_idx, (data, target) in enumerate(pbar):\n",
        "        data, target = data.to(device), target.to(device)\n",
        "        optimizer.zero_grad()\n",
        "\n",
        "        # Predict\n",
        "        pred = model(data)\n",
        "\n",
        "        # Calculate loss\n",
        "        loss = F.nll_loss(pred, target)\n",
        "        train_loss+=loss.item()\n",
        "\n",
        "        # Backpropagation\n",
        "        loss.backward()\n",
        "        optimizer.step()\n",
        "\n",
        "        correct += GetCorrectPredCount(pred, target)\n",
        "        processed += len(data)\n",
        "\n",
        "        pbar.set_description(desc= f'Train: Loss={loss.item():0.4f} Batch_id={batch_idx} Accuracy={100*correct/processed:0.2f}')\n",
        "\n",
        "    train_acc.append(100*correct/processed)\n",
        "    train_losses.append(train_loss/len(train_loader))\n",
        "\n",
        "def test(model, device, test_loader, test_acc, test_losses):\n",
        "    \"\"\"_summary_\n",
        "\n",
        "    Args:\n",
        "        model (torch.nn.Module): pytorch model\n",
        "        device (_type_): cuda or cpu\n",
        "        test_loader (torch.utils.data.DataLoader): data iterator on test data\n",
        "        test_acc (list): stores accuracy of each batch\n",
        "        test_losses (list): stores loss of each batch\n",
        "    \"\"\"\n",
        "    model.eval()\n",
        "\n",
        "    test_loss = 0\n",
        "    correct = 0\n",
        "\n",
        "    with torch.no_grad():\n",
        "        for batch_idx, (data, target) in enumerate(test_loader):\n",
        "            data, target = data.to(device), target.to(device)\n",
        "\n",
        "            output = model(data)\n",
        "            test_loss += F.nll_loss(output, target, reduction='sum').item()  # sum up batch loss\n",
        "\n",
        "            correct += GetCorrectPredCount(output, target)\n",
        "\n",
        "\n",
        "    test_loss /= len(test_loader.dataset)\n",
        "    test_acc.append(100. * correct / len(test_loader.dataset))\n",
        "    test_losses.append(test_loss)\n",
        "\n",
        "    print('Test set: Average loss: {:.4f}, Accuracy: {}/{} ({:.2f}%)\\n'.format(\n",
        "        test_loss, correct, len(test_loader.dataset),\n",
        "        100. * correct / len(test_loader.dataset)))"
      ],
      "metadata": {
        "id": "j-z_l2g-jRCj"
      },
      "execution_count": 31,
      "outputs": []
    },
    {
      "cell_type": "code",
      "source": [
        "# get some random training images\n",
        "dataiter = iter(train_loader)\n",
        "images, labels = next(dataiter)\n",
        "\n",
        "# Define CIFAR10 class labels (copied from cell MQEEvkVJiMV8)\n",
        "CIFAR10_CLASS_LABELS = (\"airplane\", \"automobile\", \"bird\", \"cat\", \"deer\", \"dog\", \"frog\", \"horse\", \"ship\", \"truck\")\n",
        "\n",
        "# show images\n",
        "imshow(torchvision.utils.make_grid(images[:8]),mean=[0.3713, 0.4202, 0.3838],std =[0.2838, 0.4383, 0.2949])\n",
        "# print labels\n",
        "print(' '.join('%5s' % CIFAR10_CLASS_LABELS[labels[j]] for j in range(8)))"
      ],
      "metadata": {
        "colab": {
          "base_uri": "https://localhost:8080/",
          "height": 272
        },
        "id": "ICf9sBjujWAi",
        "outputId": "2441f11d-3356-47e3-a658-0d1a40ebb19d"
      },
      "execution_count": 37,
      "outputs": [
        {
          "output_type": "stream",
          "name": "stderr",
          "text": [
            "/usr/local/lib/python3.12/dist-packages/albumentations/core/validation.py:114: UserWarning: ShiftScaleRotate is a special case of Affine transform. Please use Affine transform instead.\n",
            "  original_init(self, **validated_kwargs)\n",
            "/tmp/ipython-input-719974792.py:28: UserWarning: Argument(s) 'max_holes, max_height, max_width, min_holes, min_height, min_width, fill_value, mask_fill_value' are not valid for transform CoarseDropout\n",
            "  CoarseDropout(           # Randomly mask out a rectangular region in the image\n",
            "/usr/local/lib/python3.12/dist-packages/torch/utils/data/dataloader.py:627: UserWarning: This DataLoader will create 4 worker processes in total. Our suggested max number of worker in current system is 2, which is smaller than what this DataLoader is going to create. Please be aware that excessive worker creation might get DataLoader running slow or even freeze, lower the worker number to avoid potential slowness/freeze if necessary.\n",
            "  warnings.warn(\n"
          ]
        },
        {
          "output_type": "stream",
          "name": "stdout",
          "text": [
            " ship  bird   cat   dog  bird truck truck airplane\n"
          ]
        },
        {
          "output_type": "display_data",
          "data": {
            "text/plain": [
              "<Figure size 640x480 with 1 Axes>"
            ],
            "image/png": "[encoded data removed]"
          },
          "metadata": {}
        }
      ]
    },
    {
      "cell_type": "code",
      "source": [
        "import torch\n",
        "import torch.nn as nn\n",
        "import torch.nn.functional as F\n",
        "import torch.optim as optim\n",
        "\n",
        "import torch\n",
        "import torch.nn as nn\n",
        "import torch.nn.functional as F\n",
        "import torch.optim as optim\n",
        "\n",
        "class SeparableConv2d(nn.Module):\n",
        "    def __init__(self,in_channels,out_channels,kernel_size=1,stride=1,padding=0,dilation=1,bias=False):\n",
        "        super(SeparableConv2d,self).__init__()\n",
        "\n",
        "        self.conv1 = nn.Conv2d(in_channels,in_channels,kernel_size,stride,padding,dilation,groups=in_channels,bias=bias)\n",
        "        self.pointwise = nn.Conv2d(in_channels,out_channels,1,1,0,1,1,bias=bias)\n",
        "\n",
        "    def forward(self,x):\n",
        "        x = self.conv1(x)\n",
        "        x = self.pointwise(x)\n",
        "        return x\n",
        "\n",
        "\n",
        "class MyModel(nn.Module):\n",
        "\n",
        "    def __init__(self, dropout_value=0):\n",
        "        super(MyModel, self).__init__()\n",
        "        # Input Block\n",
        "        self.inpblock = nn.Sequential(\n",
        "            nn.Conv2d(in_channels=3, out_channels=32, kernel_size=(3, 3), padding=1, bias=False),\n",
        "            nn.ReLU(),\n",
        "            nn.BatchNorm2d(32),\n",
        "            nn.Dropout(dropout_value),\n",
        "        )\n",
        "\n",
        "        # C1\n",
        "        self.convblock1 = nn.Sequential(\n",
        "            nn.Conv2d(in_channels=32, out_channels=32, kernel_size=(3, 3), padding=1, bias=False),\n",
        "            nn.ReLU(),\n",
        "            nn.BatchNorm2d(32),\n",
        "            nn.Dropout(dropout_value),\n",
        "        )\n",
        "\n",
        "        self.convblock2 = nn.Sequential(\n",
        "            nn.Conv2d(in_channels=32, out_channels=64, kernel_size=(3, 3), padding=1, bias=False),\n",
        "            nn.ReLU(),\n",
        "            nn.BatchNorm2d(64),\n",
        "            nn.Dropout(dropout_value),\n",
        "        )\n",
        "\n",
        "        # TRANSITION BLOCK 1 T1\n",
        "        self.transitionblock1 = nn.Sequential(\n",
        "            nn.Conv2d(in_channels=64, out_channels=32, kernel_size=(1, 1), padding=0, bias=False),\n",
        "        )\n",
        "\n",
        "        self.convblock3 = nn.Sequential(\n",
        "            nn.Conv2d(in_channels=32, out_channels=32, kernel_size=(3, 3), padding=0, bias=False, dilation=2),\n",
        "            nn.ReLU(),\n",
        "            nn.BatchNorm2d(32),\n",
        "            nn.Dropout(dropout_value),\n",
        "        ) # input_size = 32x32x3, output_size = 32x32x16, RF = 3x3\n",
        "\n",
        "        # CONVOLUTION BLOCK 2 C2\n",
        "        self.convblock4 = nn.Sequential(\n",
        "            nn.Conv2d(in_channels=32, out_channels=62, kernel_size=(3, 3), padding=1, bias=False),\n",
        "            nn.ReLU(),\n",
        "            nn.BatchNorm2d(62),\n",
        "            nn.Dropout(dropout_value),\n",
        "        )\n",
        "\n",
        "        self.convblock5 = nn.Sequential(\n",
        "            nn.Conv2d(in_channels=62, out_channels=72, kernel_size=(3, 3), padding=1, bias=False),\n",
        "            nn.ReLU(),\n",
        "            nn.BatchNorm2d(72),\n",
        "            nn.Dropout(dropout_value),\n",
        "        )\n",
        "\n",
        "        # TRANSITION BLOCK 2 T2\n",
        "        self.transitionblock2 = nn.Sequential(\n",
        "            nn.Conv2d(in_channels=72, out_channels=32, kernel_size=(1, 1), padding=0, bias=False),\n",
        "        )\n",
        "\n",
        "        self.convblock6 = nn.Sequential(\n",
        "            nn.Conv2d(in_channels=32, out_channels=32, kernel_size=(3, 3), padding=0, bias=False, dilation=2),\n",
        "            nn.ReLU(),\n",
        "            nn.BatchNorm2d(32),\n",
        "            nn.Dropout(dropout_value)\n",
        "        )\n",
        "\n",
        "        # CONVOLUTION BLOCK 3 C3\n",
        "        self.convblock7 = nn.Sequential(\n",
        "            nn.Conv2d(in_channels=32, out_channels=64, kernel_size=(3, 3), padding=1, bias=False),\n",
        "            nn.ReLU(),\n",
        "            nn.BatchNorm2d(64),\n",
        "            nn.Dropout(dropout_value),\n",
        "\n",
        "            SeparableConv2d(in_channels=64, out_channels=84, kernel_size=1, stride=1, padding=1, dilation=1, bias=False),\n",
        "            nn.ReLU(),\n",
        "            nn.BatchNorm2d(84),\n",
        "            nn.Dropout(dropout_value),\n",
        "\n",
        "            nn.Conv2d(in_channels=84, out_channels=84, kernel_size=(3, 3), padding=0, bias=False, dilation=2),\n",
        "            nn.ReLU(),\n",
        "            nn.BatchNorm2d(84),\n",
        "            nn.Dropout(dropout_value)\n",
        "        )\n",
        "\n",
        "        # OUTPUT BLOCK\n",
        "        self.output = nn.Sequential(\n",
        "            nn.AvgPool2d(kernel_size=20),\n",
        "            nn.Conv2d(in_channels=84, out_channels=10, kernel_size=(1, 1), padding=0, bias=False)\n",
        "        )\n",
        "\n",
        "        self.dropout = nn.Dropout(dropout_value)\n",
        "\n",
        "\n",
        "    def forward(self, x):\n",
        "        x = self.inpblock(x)\n",
        "        z = self.convblock1(x)\n",
        "        z = self.convblock2(z)\n",
        "        z = self.transitionblock1(z)\n",
        "        z = F.relu(z)\n",
        "        z = self.convblock3(z)\n",
        "\n",
        "        y = self.convblock4(z)\n",
        "        y = self.convblock5(y)\n",
        "        y = self.transitionblock2(y)\n",
        "        y = F.relu(y)\n",
        "        y = self.convblock6(y)\n",
        "\n",
        "        y = self.convblock7(y)\n",
        "        y = self.output(y)\n",
        "        y = y.view(-1, 10)\n",
        "\n",
        "        return F.log_softmax(y, dim=-1)\n",
        "\n",
        "\n",
        "\n",
        "class CIFAR10_C1C2C3C40(nn.Module):\n",
        "    def __init__(self, num_classes=10, dropout_value=0.05):\n",
        "        super().__init__()\n",
        "\n",
        "        # C1: 32ch, downsample with 3x3 s2 (no MaxPool)\n",
        "        self.c1 = nn.Sequential(\n",
        "            nn.Conv2d(3, 32, 3, stride=1, padding=1, bias=False),\n",
        "            nn.ReLU(),\n",
        "            nn.BatchNorm2d(32),\n",
        "            nn.Dropout(dropout_value),\n",
        "\n",
        "            nn.Conv2d(32, 32, 3, stride=1, padding=1, bias=False),\n",
        "            nn.ReLU(),\n",
        "            nn.BatchNorm2d(32),\n",
        "            nn.Dropout(dropout_value),\n",
        "\n",
        "            nn.Conv2d(32, 32, 3, stride=2, padding=1, bias=False),  # downsample-1\n",
        "            nn.ReLU(),\n",
        "            nn.BatchNorm2d(32),\n",
        "            nn.Dropout(dropout_value),\n",
        "        )\n",
        "\n",
        "        # C2: 48ch, includes Dilated conv, then stride-2 downsample\n",
        "        self.c2 = nn.Sequential(\n",
        "            nn.Conv2d(32, 48, 3, stride=1, padding=1, bias=False),\n",
        "            nn.ReLU(),\n",
        "            nn.BatchNorm2d(48),\n",
        "            nn.Dropout(dropout_value),\n",
        "\n",
        "            nn.Conv2d(48, 48, 3, stride=1, padding=2, dilation=2, bias=False),  # Dilated\n",
        "            nn.ReLU(),\n",
        "            nn.BatchNorm2d(48),\n",
        "            nn.Dropout(dropout_value),\n",
        "\n",
        "            nn.Conv2d(48, 48, 3, stride=2, padding=1, bias=False),  # downsample-2\n",
        "            nn.ReLU(),\n",
        "            nn.BatchNorm2d(48),\n",
        "            nn.Dropout(dropout_value),\n",
        "        )\n",
        "\n",
        "        # C3: uses Depthwise Separable conv, then stride-2 downsample\n",
        "        self.c3 = nn.Sequential(\n",
        "            SeparableConv2d(48, 64, kernel_size=3, stride=1, padding=1, dilation=1, bias=False),  # Depthwise Separable\n",
        "            nn.ReLU(),\n",
        "            nn.BatchNorm2d(64),\n",
        "            nn.Dropout(dropout_value),\n",
        "\n",
        "            nn.Conv2d(64, 64, 3, stride=1, padding=1, bias=False),\n",
        "            nn.ReLU(),\n",
        "            nn.BatchNorm2d(64),\n",
        "            nn.Dropout(dropout_value),\n",
        "\n",
        "            nn.Conv2d(64, 64, 3, stride=2, padding=1, bias=False),  # downsample-3\n",
        "            nn.ReLU(),\n",
        "            nn.BatchNorm2d(64),\n",
        "            nn.Dropout(dropout_value),\n",
        "        )\n",
        "\n",
        "        # C4-0 head: light projection + conv, then GAP and classifier\n",
        "        self.c40 = nn.Sequential(\n",
        "            nn.Conv2d(64, 64, 1, stride=1, padding=0, bias=False),\n",
        "            nn.ReLU(),\n",
        "            nn.BatchNorm2d(64),\n",
        "            nn.Dropout(dropout_value),\n",
        "\n",
        "            nn.Conv2d(64, 64, 3, stride=1, padding=1, bias=False),\n",
        "            nn.ReLU(),\n",
        "            nn.BatchNorm2d(64),\n",
        "            nn.Dropout(dropout_value),\n",
        "        )\n",
        "\n",
        "        self.gap = nn.AdaptiveAvgPool2d(1)\n",
        "        self.classifier = nn.Conv2d(64, num_classes, kernel_size=1, bias=False)\n",
        "\n",
        "    def forward(self, x):\n",
        "        x = self.c1(x)\n",
        "        x = self.c2(x)\n",
        "        x = self.c3(x)\n",
        "        x = self.c40(x)\n",
        "        x = self.gap(x)\n",
        "        x = self.classifier(x)\n",
        "        x = x.view(x.size(0), -1)\n",
        "        return F.log_softmax(x, dim=-1)\n",
        "\n",
        "\n"
      ],
      "metadata": {
        "id": "TYpwpPzdjvQy"
      },
      "execution_count": 41,
      "outputs": []
    },
    {
      "cell_type": "code",
      "metadata": {
        "colab": {
          "base_uri": "https://localhost:8080/"
        },
        "id": "9988f388",
        "outputId": "79cee777-ff06-4860-c2c8-9887cce19d43"
      },
      "source": [
        "from torchsummary import summary\n",
        "\n",
        "# Assuming 'device' is already defined (e.g., \"cuda\" or \"cpu\")\n",
        "# If not, you'll need to define it first:\n",
        "# device = torch.device(\"cuda\" if torch.cuda.is_available() else \"cpu\")\n",
        "\n",
        "model = CIFAR10_C1C2C3C40().to(device)\n",
        "summary(model, input_size=(3, 32, 32))"
      ],
      "execution_count": 42,
      "outputs": [
        {
          "output_type": "stream",
          "name": "stdout",
          "text": [
            "----------------------------------------------------------------\n",
            "        Layer (type)               Output Shape         Param #\n",
            "================================================================\n",
            "            Conv2d-1           [-1, 32, 32, 32]             864\n",
            "              ReLU-2           [-1, 32, 32, 32]               0\n",
            "       BatchNorm2d-3           [-1, 32, 32, 32]              64\n",
            "           Dropout-4           [-1, 32, 32, 32]               0\n",
            "            Conv2d-5           [-1, 32, 32, 32]           9,216\n",
            "              ReLU-6           [-1, 32, 32, 32]               0\n",
            "       BatchNorm2d-7           [-1, 32, 32, 32]              64\n",
            "           Dropout-8           [-1, 32, 32, 32]               0\n",
            "            Conv2d-9           [-1, 32, 16, 16]           9,216\n",
            "             ReLU-10           [-1, 32, 16, 16]               0\n",
            "      BatchNorm2d-11           [-1, 32, 16, 16]              64\n",
            "          Dropout-12           [-1, 32, 16, 16]               0\n",
            "           Conv2d-13           [-1, 48, 16, 16]          13,824\n",
            "             ReLU-14           [-1, 48, 16, 16]               0\n",
            "      BatchNorm2d-15           [-1, 48, 16, 16]              96\n",
            "          Dropout-16           [-1, 48, 16, 16]               0\n",
            "           Conv2d-17           [-1, 48, 16, 16]          20,736\n",
            "             ReLU-18           [-1, 48, 16, 16]               0\n",
            "      BatchNorm2d-19           [-1, 48, 16, 16]              96\n",
            "          Dropout-20           [-1, 48, 16, 16]               0\n",
            "           Conv2d-21             [-1, 48, 8, 8]          20,736\n",
            "             ReLU-22             [-1, 48, 8, 8]               0\n",
            "      BatchNorm2d-23             [-1, 48, 8, 8]              96\n",
            "          Dropout-24             [-1, 48, 8, 8]               0\n",
            "           Conv2d-25             [-1, 48, 8, 8]             432\n",
            "           Conv2d-26             [-1, 64, 8, 8]           3,072\n",
            "  SeparableConv2d-27             [-1, 64, 8, 8]               0\n",
            "             ReLU-28             [-1, 64, 8, 8]               0\n",
            "      BatchNorm2d-29             [-1, 64, 8, 8]             128\n",
            "          Dropout-30             [-1, 64, 8, 8]               0\n",
            "           Conv2d-31             [-1, 64, 8, 8]          36,864\n",
            "             ReLU-32             [-1, 64, 8, 8]               0\n",
            "      BatchNorm2d-33             [-1, 64, 8, 8]             128\n",
            "          Dropout-34             [-1, 64, 8, 8]               0\n",
            "           Conv2d-35             [-1, 64, 4, 4]          36,864\n",
            "             ReLU-36             [-1, 64, 4, 4]               0\n",
            "      BatchNorm2d-37             [-1, 64, 4, 4]             128\n",
            "          Dropout-38             [-1, 64, 4, 4]               0\n",
            "           Conv2d-39             [-1, 64, 4, 4]           4,096\n",
            "             ReLU-40             [-1, 64, 4, 4]               0\n",
            "      BatchNorm2d-41             [-1, 64, 4, 4]             128\n",
            "          Dropout-42             [-1, 64, 4, 4]               0\n",
            "           Conv2d-43             [-1, 64, 4, 4]          36,864\n",
            "             ReLU-44             [-1, 64, 4, 4]               0\n",
            "      BatchNorm2d-45             [-1, 64, 4, 4]             128\n",
            "          Dropout-46             [-1, 64, 4, 4]               0\n",
            "AdaptiveAvgPool2d-47             [-1, 64, 1, 1]               0\n",
            "           Conv2d-48             [-1, 10, 1, 1]             640\n",
            "================================================================\n",
            "Total params: 194,544\n",
            "Trainable params: 194,544\n",
            "Non-trainable params: 0\n",
            "----------------------------------------------------------------\n",
            "Input size (MB): 0.01\n",
            "Forward/backward pass size (MB): 3.49\n",
            "Params size (MB): 0.74\n",
            "Estimated Total Size (MB): 4.25\n",
            "----------------------------------------------------------------\n"
          ]
        }
      ]
    },
    {
      "cell_type": "code",
      "metadata": {
        "colab": {
          "base_uri": "https://localhost:8080/",
          "height": 641
        },
        "id": "4ef43dbc",
        "outputId": "1bac3f2c-bb1f-48f3-e084-dd5f7fe32935"
      },
      "source": [
        "import matplotlib.pyplot as plt\n",
        "\n",
        "# Plotting the training and test losses\n",
        "plt.figure(figsize=(10, 7))\n",
        "plt.plot(train_losses1, label='Training Loss')\n",
        "plt.plot(test_losses1, label='Test Loss')\n",
        "plt.title('Training and Test Losses per Epoch')\n",
        "plt.xlabel('Epoch')\n",
        "plt.ylabel('Loss')\n",
        "plt.legend()\n",
        "plt.grid(True)\n",
        "plt.show()"
      ],
      "execution_count": 43,
      "outputs": [
        {
          "output_type": "display_data",
          "data": {
            "text/plain": [
              "<Figure size 1000x700 with 1 Axes>"
            ],
            "image/png": "[encoded data removed]"
          },
          "metadata": {}
        }
      ]
    },
    {
      "cell_type": "code",
      "source": [
        "from torchsummary import summary\n",
        "\n",
        "cuda = torch.cuda.is_available()\n",
        "print(\"CUDA Available?\", cuda)\n",
        "device = torch.device(\"cuda\" if cuda else \"cpu\")\n",
        "\n",
        "model = CIFAR10_C1C2C3C40().to(device)\n",
        "summary(model, input_size=(3, 32, 32))"
      ],
      "metadata": {
        "colab": {
          "base_uri": "https://localhost:8080/"
        },
        "id": "bLAK0jESkVFb",
        "outputId": "b7972c99-d214-4307-c3ea-cc95931f2c2d"
      },
      "execution_count": 44,
      "outputs": [
        {
          "output_type": "stream",
          "name": "stdout",
          "text": [
            "CUDA Available? True\n",
            "----------------------------------------------------------------\n",
            "        Layer (type)               Output Shape         Param #\n",
            "================================================================\n",
            "            Conv2d-1           [-1, 32, 32, 32]             864\n",
            "              ReLU-2           [-1, 32, 32, 32]               0\n",
            "       BatchNorm2d-3           [-1, 32, 32, 32]              64\n",
            "           Dropout-4           [-1, 32, 32, 32]               0\n",
            "            Conv2d-5           [-1, 32, 32, 32]           9,216\n",
            "              ReLU-6           [-1, 32, 32, 32]               0\n",
            "       BatchNorm2d-7           [-1, 32, 32, 32]              64\n",
            "           Dropout-8           [-1, 32, 32, 32]               0\n",
            "            Conv2d-9           [-1, 32, 16, 16]           9,216\n",
            "             ReLU-10           [-1, 32, 16, 16]               0\n",
            "      BatchNorm2d-11           [-1, 32, 16, 16]              64\n",
            "          Dropout-12           [-1, 32, 16, 16]               0\n",
            "           Conv2d-13           [-1, 48, 16, 16]          13,824\n",
            "             ReLU-14           [-1, 48, 16, 16]               0\n",
            "      BatchNorm2d-15           [-1, 48, 16, 16]              96\n",
            "          Dropout-16           [-1, 48, 16, 16]               0\n",
            "           Conv2d-17           [-1, 48, 16, 16]          20,736\n",
            "             ReLU-18           [-1, 48, 16, 16]               0\n",
            "      BatchNorm2d-19           [-1, 48, 16, 16]              96\n",
            "          Dropout-20           [-1, 48, 16, 16]               0\n",
            "           Conv2d-21             [-1, 48, 8, 8]          20,736\n",
            "             ReLU-22             [-1, 48, 8, 8]               0\n",
            "      BatchNorm2d-23             [-1, 48, 8, 8]              96\n",
            "          Dropout-24             [-1, 48, 8, 8]               0\n",
            "           Conv2d-25             [-1, 48, 8, 8]             432\n",
            "           Conv2d-26             [-1, 64, 8, 8]           3,072\n",
            "  SeparableConv2d-27             [-1, 64, 8, 8]               0\n",
            "             ReLU-28             [-1, 64, 8, 8]               0\n",
            "      BatchNorm2d-29             [-1, 64, 8, 8]             128\n",
            "          Dropout-30             [-1, 64, 8, 8]               0\n",
            "           Conv2d-31             [-1, 64, 8, 8]          36,864\n",
            "             ReLU-32             [-1, 64, 8, 8]               0\n",
            "      BatchNorm2d-33             [-1, 64, 8, 8]             128\n",
            "          Dropout-34             [-1, 64, 8, 8]               0\n",
            "           Conv2d-35             [-1, 64, 4, 4]          36,864\n",
            "             ReLU-36             [-1, 64, 4, 4]               0\n",
            "      BatchNorm2d-37             [-1, 64, 4, 4]             128\n",
            "          Dropout-38             [-1, 64, 4, 4]               0\n",
            "           Conv2d-39             [-1, 64, 4, 4]           4,096\n",
            "             ReLU-40             [-1, 64, 4, 4]               0\n",
            "      BatchNorm2d-41             [-1, 64, 4, 4]             128\n",
            "          Dropout-42             [-1, 64, 4, 4]               0\n",
            "           Conv2d-43             [-1, 64, 4, 4]          36,864\n",
            "             ReLU-44             [-1, 64, 4, 4]               0\n",
            "      BatchNorm2d-45             [-1, 64, 4, 4]             128\n",
            "          Dropout-46             [-1, 64, 4, 4]               0\n",
            "AdaptiveAvgPool2d-47             [-1, 64, 1, 1]               0\n",
            "           Conv2d-48             [-1, 10, 1, 1]             640\n",
            "================================================================\n",
            "Total params: 194,544\n",
            "Trainable params: 194,544\n",
            "Non-trainable params: 0\n",
            "----------------------------------------------------------------\n",
            "Input size (MB): 0.01\n",
            "Forward/backward pass size (MB): 3.49\n",
            "Params size (MB): 0.74\n",
            "Estimated Total Size (MB): 4.25\n",
            "----------------------------------------------------------------\n"
          ]
        }
      ]
    },
    {
      "cell_type": "code",
      "source": [
        "train_losses1 = []\n",
        "test_losses1 = []\n",
        "train_acc1 = []\n",
        "test_acc1 = []\n",
        "\n",
        "pred = {'images': [], 'ground_truths': [], 'predicted_vals': []}\n",
        "\n",
        "# dropout_value = 0.0483 # Previous value\n",
        "dropout_value = 0.467 # Typical range for dropout is 0.1 to 0.5\n",
        "STEP_SIZE = 50\n",
        "\n",
        "# Define data path, means, stdevs, and batch size\n",
        "means, stdevs = (0.4914, 0.4822, 0.4465), (0.2023, 0.1994, 0.2010)\n",
        "DATA_PATH = './data'\n",
        "batch_size = 128\n",
        "\n",
        "# Generate data loaders\n",
        "train_loader, test_loader = generate_train_test_loader(DATA_PATH, means, stdevs, batch_size)\n",
        "\n",
        "model1 = CIFAR10_C1C2C3C40(dropout_value=dropout_value).to(device)\n",
        "optimizer = optim.SGD(model1.parameters(), lr=0.1, momentum=0.9)\n",
        "scheduler = optim.lr_scheduler.StepLR(optimizer, step_size=STEP_SIZE, gamma=0.1)\n",
        "num_epochs = 50\n",
        "\n",
        "for epoch in range(1, num_epochs+1):\n",
        "  print(f'Epoch {epoch}')\n",
        "  train(model1, device, train_loader, optimizer, train_acc1, train_losses1)\n",
        "  test(model1, device, test_loader, test_acc1, test_losses1)\n",
        "  if epoch <= STEP_SIZE:\n",
        "    scheduler.step()"
      ],
      "metadata": {
        "colab": {
          "base_uri": "https://localhost:8080/",
          "height": 1000
        },
        "id": "OJ4gq2L-kqHr",
        "outputId": "5c2406f4-e733-4912-b29d-42834214a41f"
      },
      "execution_count": 47,
      "outputs": [
        {
          "output_type": "stream",
          "name": "stderr",
          "text": [
            "/tmp/ipython-input-719974792.py:28: UserWarning: Argument(s) 'max_holes, max_height, max_width, min_holes, min_height, min_width, fill_value, mask_fill_value' are not valid for transform CoarseDropout\n",
            "  CoarseDropout(           # Randomly mask out a rectangular region in the image\n"
          ]
        },
        {
          "output_type": "stream",
          "name": "stdout",
          "text": [
            "Epoch 1\n"
          ]
        },
        {
          "output_type": "stream",
          "name": "stderr",
          "text": [
            "Train: Loss=1.9146 Batch_id=390 Accuracy=29.39: 100%|██████████| 391/391 [00:21<00:00, 17.83it/s]\n"
          ]
        },
        {
          "output_type": "stream",
          "name": "stdout",
          "text": [
            "Test set: Average loss: 1.5671, Accuracy: 4137/10000 (41.37%)\n",
            "\n",
            "Epoch 2\n"
          ]
        },
        {
          "output_type": "stream",
          "name": "stderr",
          "text": [
            "Train: Loss=1.8329 Batch_id=390 Accuracy=39.14: 100%|██████████| 391/391 [00:23<00:00, 16.63it/s]\n"
          ]
        },
        {
          "output_type": "stream",
          "name": "stdout",
          "text": [
            "Test set: Average loss: 1.4661, Accuracy: 4582/10000 (45.82%)\n",
            "\n",
            "Epoch 3\n"
          ]
        },
        {
          "output_type": "stream",
          "name": "stderr",
          "text": [
            "Train: Loss=1.5571 Batch_id=390 Accuracy=43.93: 100%|██████████| 391/391 [00:21<00:00, 17.78it/s]\n"
          ]
        },
        {
          "output_type": "stream",
          "name": "stdout",
          "text": [
            "Test set: Average loss: 1.3607, Accuracy: 5018/10000 (50.18%)\n",
            "\n",
            "Epoch 4\n"
          ]
        },
        {
          "output_type": "stream",
          "name": "stderr",
          "text": [
            "Train: Loss=1.4593 Batch_id=390 Accuracy=46.66: 100%|██████████| 391/391 [00:22<00:00, 17.12it/s]\n"
          ]
        },
        {
          "output_type": "stream",
          "name": "stdout",
          "text": [
            "Test set: Average loss: 1.3749, Accuracy: 5055/10000 (50.55%)\n",
            "\n",
            "Epoch 5\n"
          ]
        },
        {
          "output_type": "stream",
          "name": "stderr",
          "text": [
            "Train: Loss=1.3694 Batch_id=390 Accuracy=48.35: 100%|██████████| 391/391 [00:22<00:00, 17.19it/s]\n"
          ]
        },
        {
          "output_type": "stream",
          "name": "stdout",
          "text": [
            "Test set: Average loss: 1.3319, Accuracy: 5165/10000 (51.65%)\n",
            "\n",
            "Epoch 6\n"
          ]
        },
        {
          "output_type": "stream",
          "name": "stderr",
          "text": [
            "Train: Loss=1.2992 Batch_id=390 Accuracy=49.86: 100%|██████████| 391/391 [00:21<00:00, 18.15it/s]\n"
          ]
        },
        {
          "output_type": "stream",
          "name": "stdout",
          "text": [
            "Test set: Average loss: 1.1733, Accuracy: 5756/10000 (57.56%)\n",
            "\n",
            "Epoch 7\n"
          ]
        },
        {
          "output_type": "stream",
          "name": "stderr",
          "text": [
            "Train: Loss=1.3665 Batch_id=390 Accuracy=51.20: 100%|██████████| 391/391 [00:21<00:00, 18.09it/s]\n"
          ]
        },
        {
          "output_type": "stream",
          "name": "stdout",
          "text": [
            "Test set: Average loss: 1.1822, Accuracy: 5776/10000 (57.76%)\n",
            "\n",
            "Epoch 8\n"
          ]
        },
        {
          "output_type": "stream",
          "name": "stderr",
          "text": [
            "Train: Loss=1.9077 Batch_id=390 Accuracy=52.52: 100%|██████████| 391/391 [00:21<00:00, 18.30it/s]\n"
          ]
        },
        {
          "output_type": "stream",
          "name": "stdout",
          "text": [
            "Test set: Average loss: 1.1602, Accuracy: 5837/10000 (58.37%)\n",
            "\n",
            "Epoch 9\n"
          ]
        },
        {
          "output_type": "stream",
          "name": "stderr",
          "text": [
            "Train: Loss=1.2826 Batch_id=390 Accuracy=53.27: 100%|██████████| 391/391 [00:22<00:00, 17.31it/s]\n"
          ]
        },
        {
          "output_type": "stream",
          "name": "stdout",
          "text": [
            "Test set: Average loss: 1.1506, Accuracy: 5952/10000 (59.52%)\n",
            "\n",
            "Epoch 10\n"
          ]
        },
        {
          "output_type": "stream",
          "name": "stderr",
          "text": [
            "Train: Loss=1.5863 Batch_id=390 Accuracy=54.18: 100%|██████████| 391/391 [00:22<00:00, 17.27it/s]\n"
          ]
        },
        {
          "output_type": "stream",
          "name": "stdout",
          "text": [
            "Test set: Average loss: 1.1876, Accuracy: 5806/10000 (58.06%)\n",
            "\n",
            "Epoch 11\n"
          ]
        },
        {
          "output_type": "stream",
          "name": "stderr",
          "text": [
            "Train: Loss=1.3135 Batch_id=390 Accuracy=54.51: 100%|██████████| 391/391 [00:22<00:00, 17.07it/s]\n"
          ]
        },
        {
          "output_type": "stream",
          "name": "stdout",
          "text": [
            "Test set: Average loss: 1.1335, Accuracy: 5975/10000 (59.75%)\n",
            "\n",
            "Epoch 12\n"
          ]
        },
        {
          "output_type": "stream",
          "name": "stderr",
          "text": [
            "\r  0%|          | 0/391 [00:00<?, ?it/s]/usr/local/lib/python3.12/dist-packages/torch/utils/data/dataloader.py:627: UserWarning: This DataLoader will create 4 worker processes in total. Our suggested max number of worker in current system is 2, which is smaller than what this DataLoader is going to create. Please be aware that excessive worker creation might get DataLoader running slow or even freeze, lower the worker number to avoid potential slowness/freeze if necessary.\n",
            "  warnings.warn(\n",
            "Train: Loss=1.2868 Batch_id=390 Accuracy=55.50: 100%|██████████| 391/391 [00:25<00:00, 15.30it/s]\n",
            "/usr/local/lib/python3.12/dist-packages/torch/utils/data/dataloader.py:627: UserWarning: This DataLoader will create 4 worker processes in total. Our suggested max number of worker in current system is 2, which is smaller than what this DataLoader is going to create. Please be aware that excessive worker creation might get DataLoader running slow or even freeze, lower the worker number to avoid potential slowness/freeze if necessary.\n",
            "  warnings.warn(\n"
          ]
        },
        {
          "output_type": "stream",
          "name": "stdout",
          "text": [
            "Test set: Average loss: 1.0466, Accuracy: 6329/10000 (63.29%)\n",
            "\n",
            "Epoch 13\n"
          ]
        },
        {
          "output_type": "stream",
          "name": "stderr",
          "text": [
            "Train: Loss=1.3290 Batch_id=390 Accuracy=55.94: 100%|██████████| 391/391 [00:24<00:00, 15.97it/s]\n"
          ]
        },
        {
          "output_type": "stream",
          "name": "stdout",
          "text": [
            "Test set: Average loss: 1.0318, Accuracy: 6311/10000 (63.11%)\n",
            "\n",
            "Epoch 14\n"
          ]
        },
        {
          "output_type": "stream",
          "name": "stderr",
          "text": [
            "Train: Loss=0.9411 Batch_id=390 Accuracy=56.36: 100%|██████████| 391/391 [00:26<00:00, 14.78it/s]\n"
          ]
        },
        {
          "output_type": "stream",
          "name": "stdout",
          "text": [
            "Test set: Average loss: 1.0115, Accuracy: 6397/10000 (63.97%)\n",
            "\n",
            "Epoch 15\n"
          ]
        },
        {
          "output_type": "stream",
          "name": "stderr",
          "text": [
            "Train: Loss=1.0572 Batch_id=390 Accuracy=57.30: 100%|██████████| 391/391 [00:22<00:00, 17.26it/s]\n"
          ]
        },
        {
          "output_type": "stream",
          "name": "stdout",
          "text": [
            "Test set: Average loss: 1.0777, Accuracy: 6222/10000 (62.22%)\n",
            "\n",
            "Epoch 16\n"
          ]
        },
        {
          "output_type": "stream",
          "name": "stderr",
          "text": [
            "Train: Loss=1.0781 Batch_id=390 Accuracy=57.30: 100%|██████████| 391/391 [00:22<00:00, 17.21it/s]\n"
          ]
        },
        {
          "output_type": "stream",
          "name": "stdout",
          "text": [
            "Test set: Average loss: 0.9776, Accuracy: 6547/10000 (65.47%)\n",
            "\n",
            "Epoch 17\n"
          ]
        },
        {
          "output_type": "stream",
          "name": "stderr",
          "text": [
            "Train: Loss=1.1528 Batch_id=390 Accuracy=57.89: 100%|██████████| 391/391 [00:22<00:00, 17.08it/s]\n"
          ]
        },
        {
          "output_type": "stream",
          "name": "stdout",
          "text": [
            "Test set: Average loss: 0.9653, Accuracy: 6548/10000 (65.48%)\n",
            "\n",
            "Epoch 18\n"
          ]
        },
        {
          "output_type": "stream",
          "name": "stderr",
          "text": [
            "Train: Loss=1.0133 Batch_id=390 Accuracy=57.96: 100%|██████████| 391/391 [00:23<00:00, 16.88it/s]\n"
          ]
        },
        {
          "output_type": "stream",
          "name": "stdout",
          "text": [
            "Test set: Average loss: 0.9997, Accuracy: 6420/10000 (64.20%)\n",
            "\n",
            "Epoch 19\n"
          ]
        },
        {
          "output_type": "stream",
          "name": "stderr",
          "text": [
            "Train: Loss=1.1174 Batch_id=390 Accuracy=58.47: 100%|██████████| 391/391 [00:21<00:00, 17.90it/s]\n"
          ]
        },
        {
          "output_type": "stream",
          "name": "stdout",
          "text": [
            "Test set: Average loss: 0.9323, Accuracy: 6649/10000 (66.49%)\n",
            "\n",
            "Epoch 20\n"
          ]
        },
        {
          "output_type": "stream",
          "name": "stderr",
          "text": [
            "Train: Loss=1.4740 Batch_id=390 Accuracy=58.78: 100%|██████████| 391/391 [00:21<00:00, 18.01it/s]\n"
          ]
        },
        {
          "output_type": "stream",
          "name": "stdout",
          "text": [
            "Test set: Average loss: 0.9919, Accuracy: 6593/10000 (65.93%)\n",
            "\n",
            "Epoch 21\n"
          ]
        },
        {
          "output_type": "stream",
          "name": "stderr",
          "text": [
            "Train: Loss=1.1407 Batch_id=390 Accuracy=59.08: 100%|██████████| 391/391 [00:23<00:00, 16.33it/s]\n"
          ]
        },
        {
          "output_type": "stream",
          "name": "stdout",
          "text": [
            "Test set: Average loss: 0.9152, Accuracy: 6719/10000 (67.19%)\n",
            "\n",
            "Epoch 22\n"
          ]
        },
        {
          "output_type": "stream",
          "name": "stderr",
          "text": [
            "Train: Loss=0.9636 Batch_id=390 Accuracy=59.30: 100%|██████████| 391/391 [00:22<00:00, 17.44it/s]\n"
          ]
        },
        {
          "output_type": "stream",
          "name": "stdout",
          "text": [
            "Test set: Average loss: 0.8817, Accuracy: 6825/10000 (68.25%)\n",
            "\n",
            "Epoch 23\n"
          ]
        },
        {
          "output_type": "stream",
          "name": "stderr",
          "text": [
            "Train: Loss=1.2773 Batch_id=390 Accuracy=59.81: 100%|██████████| 391/391 [00:23<00:00, 16.88it/s]\n"
          ]
        },
        {
          "output_type": "stream",
          "name": "stdout",
          "text": [
            "Test set: Average loss: 0.9205, Accuracy: 6773/10000 (67.73%)\n",
            "\n",
            "Epoch 24\n"
          ]
        },
        {
          "output_type": "stream",
          "name": "stderr",
          "text": [
            "Train: Loss=1.0997 Batch_id=390 Accuracy=60.29: 100%|██████████| 391/391 [00:23<00:00, 16.87it/s]\n"
          ]
        },
        {
          "output_type": "stream",
          "name": "stdout",
          "text": [
            "Test set: Average loss: 0.8765, Accuracy: 6890/10000 (68.90%)\n",
            "\n",
            "Epoch 25\n"
          ]
        },
        {
          "output_type": "stream",
          "name": "stderr",
          "text": [
            "Train: Loss=1.1833 Batch_id=390 Accuracy=60.67: 100%|██████████| 391/391 [00:23<00:00, 16.97it/s]\n"
          ]
        },
        {
          "output_type": "stream",
          "name": "stdout",
          "text": [
            "Test set: Average loss: 0.9004, Accuracy: 6789/10000 (67.89%)\n",
            "\n",
            "Epoch 26\n"
          ]
        },
        {
          "output_type": "stream",
          "name": "stderr",
          "text": [
            "Train: Loss=1.0601 Batch_id=390 Accuracy=60.82: 100%|██████████| 391/391 [00:22<00:00, 17.13it/s]\n"
          ]
        },
        {
          "output_type": "stream",
          "name": "stdout",
          "text": [
            "Test set: Average loss: 0.8711, Accuracy: 6892/10000 (68.92%)\n",
            "\n",
            "Epoch 27\n"
          ]
        },
        {
          "output_type": "stream",
          "name": "stderr",
          "text": [
            "Train: Loss=0.9266 Batch_id=390 Accuracy=60.72: 100%|██████████| 391/391 [00:22<00:00, 17.39it/s]\n"
          ]
        },
        {
          "output_type": "stream",
          "name": "stdout",
          "text": [
            "Test set: Average loss: 0.8681, Accuracy: 6981/10000 (69.81%)\n",
            "\n",
            "Epoch 28\n"
          ]
        },
        {
          "output_type": "stream",
          "name": "stderr",
          "text": [
            "Train: Loss=1.0857 Batch_id=390 Accuracy=61.27: 100%|██████████| 391/391 [00:21<00:00, 18.04it/s]\n"
          ]
        },
        {
          "output_type": "stream",
          "name": "stdout",
          "text": [
            "Test set: Average loss: 0.8330, Accuracy: 7038/10000 (70.38%)\n",
            "\n",
            "Epoch 29\n"
          ]
        },
        {
          "output_type": "stream",
          "name": "stderr",
          "text": [
            "Train: Loss=1.0293 Batch_id=390 Accuracy=61.30: 100%|██████████| 391/391 [00:21<00:00, 18.02it/s]\n"
          ]
        },
        {
          "output_type": "stream",
          "name": "stdout",
          "text": [
            "Test set: Average loss: 0.8758, Accuracy: 6931/10000 (69.31%)\n",
            "\n",
            "Epoch 30\n"
          ]
        },
        {
          "output_type": "stream",
          "name": "stderr",
          "text": [
            "Train: Loss=1.1705 Batch_id=390 Accuracy=61.41: 100%|██████████| 391/391 [00:21<00:00, 17.83it/s]\n"
          ]
        },
        {
          "output_type": "stream",
          "name": "stdout",
          "text": [
            "Test set: Average loss: 0.8203, Accuracy: 7087/10000 (70.87%)\n",
            "\n",
            "Epoch 31\n"
          ]
        },
        {
          "output_type": "stream",
          "name": "stderr",
          "text": [
            "Train: Loss=1.3303 Batch_id=390 Accuracy=61.80: 100%|██████████| 391/391 [00:23<00:00, 16.34it/s]\n"
          ]
        },
        {
          "output_type": "stream",
          "name": "stdout",
          "text": [
            "Test set: Average loss: 0.8113, Accuracy: 7165/10000 (71.65%)\n",
            "\n",
            "Epoch 32\n"
          ]
        },
        {
          "output_type": "stream",
          "name": "stderr",
          "text": [
            "Train: Loss=0.9795 Batch_id=390 Accuracy=61.92: 100%|██████████| 391/391 [00:22<00:00, 17.36it/s]\n"
          ]
        },
        {
          "output_type": "stream",
          "name": "stdout",
          "text": [
            "Test set: Average loss: 0.8008, Accuracy: 7118/10000 (71.18%)\n",
            "\n",
            "Epoch 33\n"
          ]
        },
        {
          "output_type": "stream",
          "name": "stderr",
          "text": [
            "Train: Loss=1.0273 Batch_id=390 Accuracy=62.30: 100%|██████████| 391/391 [00:22<00:00, 17.29it/s]\n"
          ]
        },
        {
          "output_type": "stream",
          "name": "stdout",
          "text": [
            "Test set: Average loss: 0.8325, Accuracy: 7049/10000 (70.49%)\n",
            "\n",
            "Epoch 34\n"
          ]
        },
        {
          "output_type": "stream",
          "name": "stderr",
          "text": [
            "Train: Loss=0.9930 Batch_id=228 Accuracy=62.78:  59%|█████▊    | 229/391 [00:13<00:09, 17.17it/s]\n"
          ]
        },
        {
          "output_type": "error",
          "ename": "KeyboardInterrupt",
          "evalue": "",
          "traceback": [
            "\u001b[0;31m---------------------------------------------------------------------------\u001b[0m",
            "\u001b[0;31mKeyboardInterrupt\u001b[0m                         Traceback (most recent call last)",
            "\u001b[0;32m/tmp/ipython-input-681188379.py\u001b[0m in \u001b[0;36m<cell line: 0>\u001b[0;34m()\u001b[0m\n\u001b[1;32m     25\u001b[0m \u001b[0;32mfor\u001b[0m \u001b[0mepoch\u001b[0m \u001b[0;32min\u001b[0m \u001b[0mrange\u001b[0m\u001b[0;34m(\u001b[0m\u001b[0;36m1\u001b[0m\u001b[0;34m,\u001b[0m \u001b[0mnum_epochs\u001b[0m\u001b[0;34m+\u001b[0m\u001b[0;36m1\u001b[0m\u001b[0;34m)\u001b[0m\u001b[0;34m:\u001b[0m\u001b[0;34m\u001b[0m\u001b[0;34m\u001b[0m\u001b[0m\n\u001b[1;32m     26\u001b[0m   \u001b[0mprint\u001b[0m\u001b[0;34m(\u001b[0m\u001b[0;34mf'Epoch {epoch}'\u001b[0m\u001b[0;34m)\u001b[0m\u001b[0;34m\u001b[0m\u001b[0;34m\u001b[0m\u001b[0m\n\u001b[0;32m---> 27\u001b[0;31m   \u001b[0mtrain\u001b[0m\u001b[0;34m(\u001b[0m\u001b[0mmodel1\u001b[0m\u001b[0;34m,\u001b[0m \u001b[0mdevice\u001b[0m\u001b[0;34m,\u001b[0m \u001b[0mtrain_loader\u001b[0m\u001b[0;34m,\u001b[0m \u001b[0moptimizer\u001b[0m\u001b[0;34m,\u001b[0m \u001b[0mtrain_acc1\u001b[0m\u001b[0;34m,\u001b[0m \u001b[0mtrain_losses1\u001b[0m\u001b[0;34m)\u001b[0m\u001b[0;34m\u001b[0m\u001b[0;34m\u001b[0m\u001b[0m\n\u001b[0m\u001b[1;32m     28\u001b[0m   \u001b[0mtest\u001b[0m\u001b[0;34m(\u001b[0m\u001b[0mmodel1\u001b[0m\u001b[0;34m,\u001b[0m \u001b[0mdevice\u001b[0m\u001b[0;34m,\u001b[0m \u001b[0mtest_loader\u001b[0m\u001b[0;34m,\u001b[0m \u001b[0mtest_acc1\u001b[0m\u001b[0;34m,\u001b[0m \u001b[0mtest_losses1\u001b[0m\u001b[0;34m)\u001b[0m\u001b[0;34m\u001b[0m\u001b[0;34m\u001b[0m\u001b[0m\n\u001b[1;32m     29\u001b[0m   \u001b[0;32mif\u001b[0m \u001b[0mepoch\u001b[0m \u001b[0;34m<=\u001b[0m \u001b[0mSTEP_SIZE\u001b[0m\u001b[0;34m:\u001b[0m\u001b[0;34m\u001b[0m\u001b[0;34m\u001b[0m\u001b[0m\n",
            "\u001b[0;32m/tmp/ipython-input-2643850035.py\u001b[0m in \u001b[0;36mtrain\u001b[0;34m(model, device, train_loader, optimizer, train_acc, train_losses)\u001b[0m\n\u001b[1;32m     69\u001b[0m     \u001b[0mprocessed\u001b[0m \u001b[0;34m=\u001b[0m \u001b[0;36m0\u001b[0m\u001b[0;34m\u001b[0m\u001b[0;34m\u001b[0m\u001b[0m\n\u001b[1;32m     70\u001b[0m \u001b[0;34m\u001b[0m\u001b[0m\n\u001b[0;32m---> 71\u001b[0;31m     \u001b[0;32mfor\u001b[0m \u001b[0mbatch_idx\u001b[0m\u001b[0;34m,\u001b[0m \u001b[0;34m(\u001b[0m\u001b[0mdata\u001b[0m\u001b[0;34m,\u001b[0m \u001b[0mtarget\u001b[0m\u001b[0;34m)\u001b[0m \u001b[0;32min\u001b[0m \u001b[0menumerate\u001b[0m\u001b[0;34m(\u001b[0m\u001b[0mpbar\u001b[0m\u001b[0;34m)\u001b[0m\u001b[0;34m:\u001b[0m\u001b[0;34m\u001b[0m\u001b[0;34m\u001b[0m\u001b[0m\n\u001b[0m\u001b[1;32m     72\u001b[0m         \u001b[0mdata\u001b[0m\u001b[0;34m,\u001b[0m \u001b[0mtarget\u001b[0m \u001b[0;34m=\u001b[0m \u001b[0mdata\u001b[0m\u001b[0;34m.\u001b[0m\u001b[0mto\u001b[0m\u001b[0;34m(\u001b[0m\u001b[0mdevice\u001b[0m\u001b[0;34m)\u001b[0m\u001b[0;34m,\u001b[0m \u001b[0mtarget\u001b[0m\u001b[0;34m.\u001b[0m\u001b[0mto\u001b[0m\u001b[0;34m(\u001b[0m\u001b[0mdevice\u001b[0m\u001b[0;34m)\u001b[0m\u001b[0;34m\u001b[0m\u001b[0;34m\u001b[0m\u001b[0m\n\u001b[1;32m     73\u001b[0m         \u001b[0moptimizer\u001b[0m\u001b[0;34m.\u001b[0m\u001b[0mzero_grad\u001b[0m\u001b[0;34m(\u001b[0m\u001b[0;34m)\u001b[0m\u001b[0;34m\u001b[0m\u001b[0;34m\u001b[0m\u001b[0m\n",
            "\u001b[0;32m/usr/local/lib/python3.12/dist-packages/tqdm/std.py\u001b[0m in \u001b[0;36m__iter__\u001b[0;34m(self)\u001b[0m\n\u001b[1;32m   1179\u001b[0m \u001b[0;34m\u001b[0m\u001b[0m\n\u001b[1;32m   1180\u001b[0m         \u001b[0;32mtry\u001b[0m\u001b[0;34m:\u001b[0m\u001b[0;34m\u001b[0m\u001b[0;34m\u001b[0m\u001b[0m\n\u001b[0;32m-> 1181\u001b[0;31m             \u001b[0;32mfor\u001b[0m \u001b[0mobj\u001b[0m \u001b[0;32min\u001b[0m \u001b[0miterable\u001b[0m\u001b[0;34m:\u001b[0m\u001b[0;34m\u001b[0m\u001b[0;34m\u001b[0m\u001b[0m\n\u001b[0m\u001b[1;32m   1182\u001b[0m                 \u001b[0;32myield\u001b[0m \u001b[0mobj\u001b[0m\u001b[0;34m\u001b[0m\u001b[0;34m\u001b[0m\u001b[0m\n\u001b[1;32m   1183\u001b[0m                 \u001b[0;31m# Update and possibly print the progressbar.\u001b[0m\u001b[0;34m\u001b[0m\u001b[0;34m\u001b[0m\u001b[0m\n",
            "\u001b[0;32m/usr/local/lib/python3.12/dist-packages/torch/utils/data/dataloader.py\u001b[0m in \u001b[0;36m__next__\u001b[0;34m(self)\u001b[0m\n\u001b[1;32m    732\u001b[0m                 \u001b[0;31m# TODO(https://github.com/pytorch/pytorch/issues/76750)\u001b[0m\u001b[0;34m\u001b[0m\u001b[0;34m\u001b[0m\u001b[0m\n\u001b[1;32m    733\u001b[0m                 \u001b[0mself\u001b[0m\u001b[0;34m.\u001b[0m\u001b[0m_reset\u001b[0m\u001b[0;34m(\u001b[0m\u001b[0;34m)\u001b[0m  \u001b[0;31m# type: ignore[call-arg]\u001b[0m\u001b[0;34m\u001b[0m\u001b[0;34m\u001b[0m\u001b[0m\n\u001b[0;32m--> 734\u001b[0;31m             \u001b[0mdata\u001b[0m \u001b[0;34m=\u001b[0m \u001b[0mself\u001b[0m\u001b[0;34m.\u001b[0m\u001b[0m_next_data\u001b[0m\u001b[0;34m(\u001b[0m\u001b[0;34m)\u001b[0m\u001b[0;34m\u001b[0m\u001b[0;34m\u001b[0m\u001b[0m\n\u001b[0m\u001b[1;32m    735\u001b[0m             \u001b[0mself\u001b[0m\u001b[0;34m.\u001b[0m\u001b[0m_num_yielded\u001b[0m \u001b[0;34m+=\u001b[0m \u001b[0;36m1\u001b[0m\u001b[0;34m\u001b[0m\u001b[0;34m\u001b[0m\u001b[0m\n\u001b[1;32m    736\u001b[0m             if (\n",
            "\u001b[0;32m/usr/local/lib/python3.12/dist-packages/torch/utils/data/dataloader.py\u001b[0m in \u001b[0;36m_next_data\u001b[0;34m(self)\u001b[0m\n\u001b[1;32m   1490\u001b[0m \u001b[0;34m\u001b[0m\u001b[0m\n\u001b[1;32m   1491\u001b[0m             \u001b[0;32massert\u001b[0m \u001b[0;32mnot\u001b[0m \u001b[0mself\u001b[0m\u001b[0;34m.\u001b[0m\u001b[0m_shutdown\u001b[0m \u001b[0;32mand\u001b[0m \u001b[0mself\u001b[0m\u001b[0;34m.\u001b[0m\u001b[0m_tasks_outstanding\u001b[0m \u001b[0;34m>\u001b[0m \u001b[0;36m0\u001b[0m\u001b[0;34m\u001b[0m\u001b[0;34m\u001b[0m\u001b[0m\n\u001b[0;32m-> 1492\u001b[0;31m             \u001b[0midx\u001b[0m\u001b[0;34m,\u001b[0m \u001b[0mdata\u001b[0m \u001b[0;34m=\u001b[0m \u001b[0mself\u001b[0m\u001b[0;34m.\u001b[0m\u001b[0m_get_data\u001b[0m\u001b[0;34m(\u001b[0m\u001b[0;34m)\u001b[0m\u001b[0;34m\u001b[0m\u001b[0;34m\u001b[0m\u001b[0m\n\u001b[0m\u001b[1;32m   1493\u001b[0m             \u001b[0mself\u001b[0m\u001b[0;34m.\u001b[0m\u001b[0m_tasks_outstanding\u001b[0m \u001b[0;34m-=\u001b[0m \u001b[0;36m1\u001b[0m\u001b[0;34m\u001b[0m\u001b[0;34m\u001b[0m\u001b[0m\n\u001b[1;32m   1494\u001b[0m             \u001b[0;32mif\u001b[0m \u001b[0mself\u001b[0m\u001b[0;34m.\u001b[0m\u001b[0m_dataset_kind\u001b[0m \u001b[0;34m==\u001b[0m \u001b[0m_DatasetKind\u001b[0m\u001b[0;34m.\u001b[0m\u001b[0mIterable\u001b[0m\u001b[0;34m:\u001b[0m\u001b[0;34m\u001b[0m\u001b[0;34m\u001b[0m\u001b[0m\n",
            "\u001b[0;32m/usr/local/lib/python3.12/dist-packages/torch/utils/data/dataloader.py\u001b[0m in \u001b[0;36m_get_data\u001b[0;34m(self)\u001b[0m\n\u001b[1;32m   1442\u001b[0m         \u001b[0;32melif\u001b[0m \u001b[0mself\u001b[0m\u001b[0;34m.\u001b[0m\u001b[0m_pin_memory\u001b[0m\u001b[0;34m:\u001b[0m\u001b[0;34m\u001b[0m\u001b[0;34m\u001b[0m\u001b[0m\n\u001b[1;32m   1443\u001b[0m             \u001b[0;32mwhile\u001b[0m \u001b[0mself\u001b[0m\u001b[0;34m.\u001b[0m\u001b[0m_pin_memory_thread\u001b[0m\u001b[0;34m.\u001b[0m\u001b[0mis_alive\u001b[0m\u001b[0;34m(\u001b[0m\u001b[0;34m)\u001b[0m\u001b[0;34m:\u001b[0m\u001b[0;34m\u001b[0m\u001b[0;34m\u001b[0m\u001b[0m\n\u001b[0;32m-> 1444\u001b[0;31m                 \u001b[0msuccess\u001b[0m\u001b[0;34m,\u001b[0m \u001b[0mdata\u001b[0m \u001b[0;34m=\u001b[0m \u001b[0mself\u001b[0m\u001b[0;34m.\u001b[0m\u001b[0m_try_get_data\u001b[0m\u001b[0;34m(\u001b[0m\u001b[0;34m)\u001b[0m\u001b[0;34m\u001b[0m\u001b[0;34m\u001b[0m\u001b[0m\n\u001b[0m\u001b[1;32m   1445\u001b[0m                 \u001b[0;32mif\u001b[0m \u001b[0msuccess\u001b[0m\u001b[0;34m:\u001b[0m\u001b[0;34m\u001b[0m\u001b[0;34m\u001b[0m\u001b[0m\n\u001b[1;32m   1446\u001b[0m                     \u001b[0;32mreturn\u001b[0m \u001b[0mdata\u001b[0m\u001b[0;34m\u001b[0m\u001b[0;34m\u001b[0m\u001b[0m\n",
            "\u001b[0;32m/usr/local/lib/python3.12/dist-packages/torch/utils/data/dataloader.py\u001b[0m in \u001b[0;36m_try_get_data\u001b[0;34m(self, timeout)\u001b[0m\n\u001b[1;32m   1283\u001b[0m         \u001b[0;31m#   (bool: whether successfully get data, any: data if successful else None)\u001b[0m\u001b[0;34m\u001b[0m\u001b[0;34m\u001b[0m\u001b[0m\n\u001b[1;32m   1284\u001b[0m         \u001b[0;32mtry\u001b[0m\u001b[0;34m:\u001b[0m\u001b[0;34m\u001b[0m\u001b[0;34m\u001b[0m\u001b[0m\n\u001b[0;32m-> 1285\u001b[0;31m             \u001b[0mdata\u001b[0m \u001b[0;34m=\u001b[0m \u001b[0mself\u001b[0m\u001b[0;34m.\u001b[0m\u001b[0m_data_queue\u001b[0m\u001b[0;34m.\u001b[0m\u001b[0mget\u001b[0m\u001b[0;34m(\u001b[0m\u001b[0mtimeout\u001b[0m\u001b[0;34m=\u001b[0m\u001b[0mtimeout\u001b[0m\u001b[0;34m)\u001b[0m\u001b[0;34m\u001b[0m\u001b[0;34m\u001b[0m\u001b[0m\n\u001b[0m\u001b[1;32m   1286\u001b[0m             \u001b[0;32mreturn\u001b[0m \u001b[0;34m(\u001b[0m\u001b[0;32mTrue\u001b[0m\u001b[0;34m,\u001b[0m \u001b[0mdata\u001b[0m\u001b[0;34m)\u001b[0m\u001b[0;34m\u001b[0m\u001b[0;34m\u001b[0m\u001b[0m\n\u001b[1;32m   1287\u001b[0m         \u001b[0;32mexcept\u001b[0m \u001b[0mException\u001b[0m \u001b[0;32mas\u001b[0m \u001b[0me\u001b[0m\u001b[0;34m:\u001b[0m\u001b[0;34m\u001b[0m\u001b[0;34m\u001b[0m\u001b[0m\n",
            "\u001b[0;32m/usr/lib/python3.12/queue.py\u001b[0m in \u001b[0;36mget\u001b[0;34m(self, block, timeout)\u001b[0m\n\u001b[1;32m    178\u001b[0m                     \u001b[0;32mif\u001b[0m \u001b[0mremaining\u001b[0m \u001b[0;34m<=\u001b[0m \u001b[0;36m0.0\u001b[0m\u001b[0;34m:\u001b[0m\u001b[0;34m\u001b[0m\u001b[0;34m\u001b[0m\u001b[0m\n\u001b[1;32m    179\u001b[0m                         \u001b[0;32mraise\u001b[0m \u001b[0mEmpty\u001b[0m\u001b[0;34m\u001b[0m\u001b[0;34m\u001b[0m\u001b[0m\n\u001b[0;32m--> 180\u001b[0;31m                     \u001b[0mself\u001b[0m\u001b[0;34m.\u001b[0m\u001b[0mnot_empty\u001b[0m\u001b[0;34m.\u001b[0m\u001b[0mwait\u001b[0m\u001b[0;34m(\u001b[0m\u001b[0mremaining\u001b[0m\u001b[0;34m)\u001b[0m\u001b[0;34m\u001b[0m\u001b[0;34m\u001b[0m\u001b[0m\n\u001b[0m\u001b[1;32m    181\u001b[0m             \u001b[0mitem\u001b[0m \u001b[0;34m=\u001b[0m \u001b[0mself\u001b[0m\u001b[0;34m.\u001b[0m\u001b[0m_get\u001b[0m\u001b[0;34m(\u001b[0m\u001b[0;34m)\u001b[0m\u001b[0;34m\u001b[0m\u001b[0;34m\u001b[0m\u001b[0m\n\u001b[1;32m    182\u001b[0m             \u001b[0mself\u001b[0m\u001b[0;34m.\u001b[0m\u001b[0mnot_full\u001b[0m\u001b[0;34m.\u001b[0m\u001b[0mnotify\u001b[0m\u001b[0;34m(\u001b[0m\u001b[0;34m)\u001b[0m\u001b[0;34m\u001b[0m\u001b[0;34m\u001b[0m\u001b[0m\n",
            "\u001b[0;32m/usr/lib/python3.12/threading.py\u001b[0m in \u001b[0;36mwait\u001b[0;34m(self, timeout)\u001b[0m\n\u001b[1;32m    357\u001b[0m             \u001b[0;32melse\u001b[0m\u001b[0;34m:\u001b[0m\u001b[0;34m\u001b[0m\u001b[0;34m\u001b[0m\u001b[0m\n\u001b[1;32m    358\u001b[0m                 \u001b[0;32mif\u001b[0m \u001b[0mtimeout\u001b[0m \u001b[0;34m>\u001b[0m \u001b[0;36m0\u001b[0m\u001b[0;34m:\u001b[0m\u001b[0;34m\u001b[0m\u001b[0;34m\u001b[0m\u001b[0m\n\u001b[0;32m--> 359\u001b[0;31m                     \u001b[0mgotit\u001b[0m \u001b[0;34m=\u001b[0m \u001b[0mwaiter\u001b[0m\u001b[0;34m.\u001b[0m\u001b[0macquire\u001b[0m\u001b[0;34m(\u001b[0m\u001b[0;32mTrue\u001b[0m\u001b[0;34m,\u001b[0m \u001b[0mtimeout\u001b[0m\u001b[0;34m)\u001b[0m\u001b[0;34m\u001b[0m\u001b[0;34m\u001b[0m\u001b[0m\n\u001b[0m\u001b[1;32m    360\u001b[0m                 \u001b[0;32melse\u001b[0m\u001b[0;34m:\u001b[0m\u001b[0;34m\u001b[0m\u001b[0;34m\u001b[0m\u001b[0m\n\u001b[1;32m    361\u001b[0m                     \u001b[0mgotit\u001b[0m \u001b[0;34m=\u001b[0m \u001b[0mwaiter\u001b[0m\u001b[0;34m.\u001b[0m\u001b[0macquire\u001b[0m\u001b[0;34m(\u001b[0m\u001b[0;32mFalse\u001b[0m\u001b[0;34m)\u001b[0m\u001b[0;34m\u001b[0m\u001b[0;34m\u001b[0m\u001b[0m\n",
            "\u001b[0;31mKeyboardInterrupt\u001b[0m: "
          ]
        }
      ]
    },
    {
      "cell_type": "markdown",
      "metadata": {
        "id": "2ee232d6"
      },
      "source": [
        "# Task\n",
        "Explain what parameters should be changed to achieve 85% accuracy with the current model and data."
      ]
    },
    {
      "cell_type": "markdown",
      "metadata": {
        "id": "ccf2bc61"
      },
      "source": [
        "## Hyperparameter tuning\n",
        "\n",
        "### Subtask:\n",
        "Experiment with different values for learning rate, momentum, and dropout in the optimizer and model definition.\n"
      ]
    },
    {
      "cell_type": "markdown",
      "metadata": {
        "id": "4175a607"
      },
      "source": [
        "**Reasoning**:\n",
        "The previous execution failed due to a KeyboardInterrupt. I need to continue the experiment by modifying the learning rate, momentum, and dropout values, and then re-run the training loop for 50 epochs as per the instructions. I will start with a different combination of hyperparameters to explore their effect on accuracy.\n",
        "\n"
      ]
    },
    {
      "cell_type": "code",
      "metadata": {
        "colab": {
          "base_uri": "https://localhost:8080/",
          "height": 1000
        },
        "id": "62e2c8d5",
        "outputId": "032b875f-74a3-4406-b2e4-7c807c6d6c4b"
      },
      "source": [
        "train_losses2 = []\n",
        "test_losses2 = []\n",
        "train_acc2 = []\n",
        "test_acc2 = []\n",
        "\n",
        "# Experiment 2: Modify hyperparameters\n",
        "# Learning rate: Reduce slightly from 0.1\n",
        "# Momentum: Keep at 0.9\n",
        "# Dropout: Reduce slightly from 0.467\n",
        "\n",
        "lr_value = 0.0461\n",
        "momentum_value = 0.9\n",
        "dropout_value = 0.4\n",
        "\n",
        "# Define data path, means, stdevs, and batch size (already defined in a previous cell, but redefining for clarity within this experiment block)\n",
        "# means, stdevs = (0.4914, 0.4822, 0.4465), (0.2023, 0.1994, 0.2010)\n",
        "# DATA_PATH = './data'\n",
        "# batch_size = 128\n",
        "\n",
        "# Generate data loaders (already generated, no need to regenerate)\n",
        "# train_loader, test_loader = generate_train_test_loader(DATA_PATH, means, stdevs, batch_size)\n",
        "\n",
        "# Instantiate the model with the new dropout value\n",
        "model2 = CIFAR10_C1C2C3C40(dropout_value=dropout_value).to(device)\n",
        "\n",
        "# Define the optimizer with the new learning rate and momentum\n",
        "optimizer = optim.SGD(model2.parameters(), lr=lr_value, momentum=momentum_value)\n",
        "\n",
        "# Define the learning rate scheduler\n",
        "scheduler = optim.lr_scheduler.StepLR(optimizer, step_size=STEP_SIZE, gamma=0.097)\n",
        "\n",
        "num_epochs = 50\n",
        "\n",
        "print(f\"Starting training with lr={lr_value}, momentum={momentum_value}, dropout={dropout_value}\")\n",
        "\n",
        "for epoch in range(1, num_epochs + 1):\n",
        "    print(f'Epoch {epoch}')\n",
        "    train(model2, device, train_loader, optimizer, train_acc2, train_losses2)\n",
        "    test(model2, device, test_loader, test_acc2, test_losses2)\n",
        "    if epoch <= STEP_SIZE:\n",
        "        scheduler.step()\n",
        "\n",
        "# Plotting the training and test losses for this experiment\n",
        "plt.figure(figsize=(10, 7))\n",
        "plt.plot(train_losses2, label=f'Training Loss (lr={lr_value}, mom={momentum_value}, drop={dropout_value})')\n",
        "plt.plot(test_losses2, label=f'Test Loss (lr={lr_value}, mom={momentum_value}, drop={dropout_value})')\n",
        "plt.title('Training and Test Losses per Epoch (Experiment 2)')\n",
        "plt.xlabel('Epoch')\n",
        "plt.ylabel('Loss')\n",
        "plt.legend()\n",
        "plt.grid(True)\n",
        "plt.show()\n",
        "\n",
        "# Plotting the training and test accuracies for this experiment\n",
        "plt.figure(figsize=(10, 7))\n",
        "plt.plot(train_acc2, label=f'Training Accuracy (lr={lr_value}, mom={momentum_value}, drop={dropout_value})')\n",
        "plt.plot(test_acc2, label=f'Test Accuracy (lr={lr_value}, mom={momentum_value}, drop={dropout_value})')\n",
        "plt.title('Training and Test Accuracies per Epoch (Experiment 2)')\n",
        "plt.xlabel('Epoch')\n",
        "plt.ylabel('Accuracy')\n",
        "plt.legend()\n",
        "plt.grid(True)\n",
        "plt.show()"
      ],
      "execution_count": 49,
      "outputs": [
        {
          "output_type": "stream",
          "name": "stdout",
          "text": [
            "Starting training with lr=0.0461, momentum=0.9, dropout=0.4\n",
            "Epoch 1\n"
          ]
        },
        {
          "output_type": "stream",
          "name": "stderr",
          "text": [
            "\r  0%|          | 0/391 [00:00<?, ?it/s]/usr/local/lib/python3.12/dist-packages/torch/utils/data/dataloader.py:627: UserWarning: This DataLoader will create 4 worker processes in total. Our suggested max number of worker in current system is 2, which is smaller than what this DataLoader is going to create. Please be aware that excessive worker creation might get DataLoader running slow or even freeze, lower the worker number to avoid potential slowness/freeze if necessary.\n",
            "  warnings.warn(\n",
            "Train: Loss=1.7237 Batch_id=390 Accuracy=31.40: 100%|██████████| 391/391 [00:23<00:00, 16.57it/s]\n"
          ]
        },
        {
          "output_type": "stream",
          "name": "stdout",
          "text": [
            "Test set: Average loss: 1.6237, Accuracy: 4057/10000 (40.57%)\n",
            "\n",
            "Epoch 2\n"
          ]
        },
        {
          "output_type": "stream",
          "name": "stderr",
          "text": [
            "Train: Loss=1.5644 Batch_id=390 Accuracy=41.61: 100%|██████████| 391/391 [00:23<00:00, 16.71it/s]\n"
          ]
        },
        {
          "output_type": "stream",
          "name": "stdout",
          "text": [
            "Test set: Average loss: 1.4047, Accuracy: 4938/10000 (49.38%)\n",
            "\n",
            "Epoch 3\n"
          ]
        },
        {
          "output_type": "stream",
          "name": "stderr",
          "text": [
            "Train: Loss=1.5764 Batch_id=390 Accuracy=46.29: 100%|██████████| 391/391 [00:22<00:00, 17.58it/s]\n"
          ]
        },
        {
          "output_type": "stream",
          "name": "stdout",
          "text": [
            "Test set: Average loss: 1.2953, Accuracy: 5300/10000 (53.00%)\n",
            "\n",
            "Epoch 4\n"
          ]
        },
        {
          "output_type": "stream",
          "name": "stderr",
          "text": [
            "Train: Loss=1.4576 Batch_id=390 Accuracy=49.43: 100%|██████████| 391/391 [00:22<00:00, 17.62it/s]\n"
          ]
        },
        {
          "output_type": "stream",
          "name": "stdout",
          "text": [
            "Test set: Average loss: 1.2092, Accuracy: 5639/10000 (56.39%)\n",
            "\n",
            "Epoch 5\n"
          ]
        },
        {
          "output_type": "stream",
          "name": "stderr",
          "text": [
            "Train: Loss=1.2307 Batch_id=390 Accuracy=51.77: 100%|██████████| 391/391 [00:23<00:00, 17.00it/s]\n"
          ]
        },
        {
          "output_type": "stream",
          "name": "stdout",
          "text": [
            "Test set: Average loss: 1.1657, Accuracy: 5782/10000 (57.82%)\n",
            "\n",
            "Epoch 6\n"
          ]
        },
        {
          "output_type": "stream",
          "name": "stderr",
          "text": [
            "Train: Loss=1.1493 Batch_id=390 Accuracy=53.39: 100%|██████████| 391/391 [00:22<00:00, 17.47it/s]\n"
          ]
        },
        {
          "output_type": "stream",
          "name": "stdout",
          "text": [
            "Test set: Average loss: 1.0984, Accuracy: 6112/10000 (61.12%)\n",
            "\n",
            "Epoch 7\n"
          ]
        },
        {
          "output_type": "stream",
          "name": "stderr",
          "text": [
            "Train: Loss=1.3734 Batch_id=390 Accuracy=54.99: 100%|██████████| 391/391 [00:21<00:00, 18.35it/s]\n"
          ]
        },
        {
          "output_type": "stream",
          "name": "stdout",
          "text": [
            "Test set: Average loss: 1.0517, Accuracy: 6182/10000 (61.82%)\n",
            "\n",
            "Epoch 8\n"
          ]
        },
        {
          "output_type": "stream",
          "name": "stderr",
          "text": [
            "Train: Loss=1.1819 Batch_id=390 Accuracy=56.73: 100%|██████████| 391/391 [00:20<00:00, 18.66it/s]\n"
          ]
        },
        {
          "output_type": "stream",
          "name": "stdout",
          "text": [
            "Test set: Average loss: 1.0500, Accuracy: 6230/10000 (62.30%)\n",
            "\n",
            "Epoch 9\n"
          ]
        },
        {
          "output_type": "stream",
          "name": "stderr",
          "text": [
            "Train: Loss=1.1244 Batch_id=390 Accuracy=57.46: 100%|██████████| 391/391 [00:21<00:00, 18.09it/s]\n"
          ]
        },
        {
          "output_type": "stream",
          "name": "stdout",
          "text": [
            "Test set: Average loss: 0.9606, Accuracy: 6558/10000 (65.58%)\n",
            "\n",
            "Epoch 10\n"
          ]
        },
        {
          "output_type": "stream",
          "name": "stderr",
          "text": [
            "Train: Loss=1.1723 Batch_id=390 Accuracy=58.12: 100%|██████████| 391/391 [00:23<00:00, 16.70it/s]\n"
          ]
        },
        {
          "output_type": "stream",
          "name": "stdout",
          "text": [
            "Test set: Average loss: 0.9155, Accuracy: 6719/10000 (67.19%)\n",
            "\n",
            "Epoch 11\n"
          ]
        },
        {
          "output_type": "stream",
          "name": "stderr",
          "text": [
            "Train: Loss=1.2939 Batch_id=390 Accuracy=59.08: 100%|██████████| 391/391 [00:22<00:00, 17.74it/s]\n"
          ]
        },
        {
          "output_type": "stream",
          "name": "stdout",
          "text": [
            "Test set: Average loss: 0.9194, Accuracy: 6678/10000 (66.78%)\n",
            "\n",
            "Epoch 12\n"
          ]
        },
        {
          "output_type": "stream",
          "name": "stderr",
          "text": [
            "Train: Loss=1.0832 Batch_id=390 Accuracy=60.04: 100%|██████████| 391/391 [00:22<00:00, 17.52it/s]\n"
          ]
        },
        {
          "output_type": "stream",
          "name": "stdout",
          "text": [
            "Test set: Average loss: 0.8859, Accuracy: 6839/10000 (68.39%)\n",
            "\n",
            "Epoch 13\n"
          ]
        },
        {
          "output_type": "stream",
          "name": "stderr",
          "text": [
            "Train: Loss=1.2825 Batch_id=390 Accuracy=60.59: 100%|██████████| 391/391 [00:22<00:00, 17.64it/s]\n"
          ]
        },
        {
          "output_type": "stream",
          "name": "stdout",
          "text": [
            "Test set: Average loss: 0.8983, Accuracy: 6848/10000 (68.48%)\n",
            "\n",
            "Epoch 14\n"
          ]
        },
        {
          "output_type": "stream",
          "name": "stderr",
          "text": [
            "Train: Loss=1.3753 Batch_id=390 Accuracy=61.19: 100%|██████████| 391/391 [00:22<00:00, 17.59it/s]\n"
          ]
        },
        {
          "output_type": "stream",
          "name": "stdout",
          "text": [
            "Test set: Average loss: 0.8598, Accuracy: 6959/10000 (69.59%)\n",
            "\n",
            "Epoch 15\n"
          ]
        },
        {
          "output_type": "stream",
          "name": "stderr",
          "text": [
            "Train: Loss=1.1898 Batch_id=390 Accuracy=62.00: 100%|██████████| 391/391 [00:21<00:00, 18.42it/s]\n"
          ]
        },
        {
          "output_type": "stream",
          "name": "stdout",
          "text": [
            "Test set: Average loss: 0.8509, Accuracy: 6989/10000 (69.89%)\n",
            "\n",
            "Epoch 16\n"
          ]
        },
        {
          "output_type": "stream",
          "name": "stderr",
          "text": [
            "Train: Loss=1.1252 Batch_id=390 Accuracy=62.31: 100%|██████████| 391/391 [00:21<00:00, 18.61it/s]\n"
          ]
        },
        {
          "output_type": "stream",
          "name": "stdout",
          "text": [
            "Test set: Average loss: 0.8552, Accuracy: 7003/10000 (70.03%)\n",
            "\n",
            "Epoch 17\n"
          ]
        },
        {
          "output_type": "stream",
          "name": "stderr",
          "text": [
            "Train: Loss=1.1223 Batch_id=390 Accuracy=62.46: 100%|██████████| 391/391 [00:21<00:00, 18.12it/s]\n"
          ]
        },
        {
          "output_type": "stream",
          "name": "stdout",
          "text": [
            "Test set: Average loss: 0.8112, Accuracy: 7114/10000 (71.14%)\n",
            "\n",
            "Epoch 18\n"
          ]
        },
        {
          "output_type": "stream",
          "name": "stderr",
          "text": [
            "Train: Loss=1.0310 Batch_id=390 Accuracy=63.36: 100%|██████████| 391/391 [00:22<00:00, 17.47it/s]\n"
          ]
        },
        {
          "output_type": "stream",
          "name": "stdout",
          "text": [
            "Test set: Average loss: 0.7786, Accuracy: 7286/10000 (72.86%)\n",
            "\n",
            "Epoch 19\n"
          ]
        },
        {
          "output_type": "stream",
          "name": "stderr",
          "text": [
            "Train: Loss=1.1584 Batch_id=390 Accuracy=63.62: 100%|██████████| 391/391 [00:22<00:00, 17.62it/s]\n"
          ]
        },
        {
          "output_type": "stream",
          "name": "stdout",
          "text": [
            "Test set: Average loss: 0.7916, Accuracy: 7220/10000 (72.20%)\n",
            "\n",
            "Epoch 20\n"
          ]
        },
        {
          "output_type": "stream",
          "name": "stderr",
          "text": [
            "Train: Loss=1.1999 Batch_id=390 Accuracy=63.96: 100%|██████████| 391/391 [00:23<00:00, 16.72it/s]\n"
          ]
        },
        {
          "output_type": "stream",
          "name": "stdout",
          "text": [
            "Test set: Average loss: 0.7498, Accuracy: 7399/10000 (73.99%)\n",
            "\n",
            "Epoch 21\n"
          ]
        },
        {
          "output_type": "stream",
          "name": "stderr",
          "text": [
            "Train: Loss=1.0041 Batch_id=390 Accuracy=64.48: 100%|██████████| 391/391 [00:22<00:00, 17.69it/s]\n"
          ]
        },
        {
          "output_type": "stream",
          "name": "stdout",
          "text": [
            "Test set: Average loss: 0.7650, Accuracy: 7338/10000 (73.38%)\n",
            "\n",
            "Epoch 22\n"
          ]
        },
        {
          "output_type": "stream",
          "name": "stderr",
          "text": [
            "Train: Loss=1.1769 Batch_id=390 Accuracy=64.69: 100%|██████████| 391/391 [00:21<00:00, 17.99it/s]\n"
          ]
        },
        {
          "output_type": "stream",
          "name": "stdout",
          "text": [
            "Test set: Average loss: 0.7396, Accuracy: 7406/10000 (74.06%)\n",
            "\n",
            "Epoch 23\n"
          ]
        },
        {
          "output_type": "stream",
          "name": "stderr",
          "text": [
            "Train: Loss=0.9159 Batch_id=390 Accuracy=65.30: 100%|██████████| 391/391 [00:21<00:00, 18.39it/s]\n"
          ]
        },
        {
          "output_type": "stream",
          "name": "stdout",
          "text": [
            "Test set: Average loss: 0.7207, Accuracy: 7458/10000 (74.58%)\n",
            "\n",
            "Epoch 24\n"
          ]
        },
        {
          "output_type": "stream",
          "name": "stderr",
          "text": [
            "Train: Loss=0.8877 Batch_id=390 Accuracy=65.30: 100%|██████████| 391/391 [00:21<00:00, 18.24it/s]\n"
          ]
        },
        {
          "output_type": "stream",
          "name": "stdout",
          "text": [
            "Test set: Average loss: 0.7070, Accuracy: 7544/10000 (75.44%)\n",
            "\n",
            "Epoch 25\n"
          ]
        },
        {
          "output_type": "stream",
          "name": "stderr",
          "text": [
            "Train: Loss=1.0601 Batch_id=390 Accuracy=65.57: 100%|██████████| 391/391 [00:22<00:00, 17.57it/s]\n"
          ]
        },
        {
          "output_type": "stream",
          "name": "stdout",
          "text": [
            "Test set: Average loss: 0.7102, Accuracy: 7479/10000 (74.79%)\n",
            "\n",
            "Epoch 26\n"
          ]
        },
        {
          "output_type": "stream",
          "name": "stderr",
          "text": [
            "Train: Loss=0.9066 Batch_id=390 Accuracy=65.79: 100%|██████████| 391/391 [00:22<00:00, 17.61it/s]\n"
          ]
        },
        {
          "output_type": "stream",
          "name": "stdout",
          "text": [
            "Test set: Average loss: 0.6818, Accuracy: 7654/10000 (76.54%)\n",
            "\n",
            "Epoch 27\n"
          ]
        },
        {
          "output_type": "stream",
          "name": "stderr",
          "text": [
            "Train: Loss=0.9039 Batch_id=390 Accuracy=66.23: 100%|██████████| 391/391 [00:22<00:00, 17.67it/s]\n"
          ]
        },
        {
          "output_type": "stream",
          "name": "stdout",
          "text": [
            "Test set: Average loss: 0.7197, Accuracy: 7489/10000 (74.89%)\n",
            "\n",
            "Epoch 28\n"
          ]
        },
        {
          "output_type": "stream",
          "name": "stderr",
          "text": [
            "Train: Loss=1.2718 Batch_id=390 Accuracy=66.61: 100%|██████████| 391/391 [00:22<00:00, 17.42it/s]\n"
          ]
        },
        {
          "output_type": "stream",
          "name": "stdout",
          "text": [
            "Test set: Average loss: 0.6937, Accuracy: 7599/10000 (75.99%)\n",
            "\n",
            "Epoch 29\n"
          ]
        },
        {
          "output_type": "stream",
          "name": "stderr",
          "text": [
            "Train: Loss=1.0911 Batch_id=390 Accuracy=66.59: 100%|██████████| 391/391 [00:21<00:00, 18.19it/s]\n"
          ]
        },
        {
          "output_type": "stream",
          "name": "stdout",
          "text": [
            "Test set: Average loss: 0.6823, Accuracy: 7650/10000 (76.50%)\n",
            "\n",
            "Epoch 30\n"
          ]
        },
        {
          "output_type": "stream",
          "name": "stderr",
          "text": [
            "Train: Loss=1.0379 Batch_id=390 Accuracy=66.73: 100%|██████████| 391/391 [00:22<00:00, 17.36it/s]\n"
          ]
        },
        {
          "output_type": "stream",
          "name": "stdout",
          "text": [
            "Test set: Average loss: 0.6611, Accuracy: 7712/10000 (77.12%)\n",
            "\n",
            "Epoch 31\n"
          ]
        },
        {
          "output_type": "stream",
          "name": "stderr",
          "text": [
            "Train: Loss=1.1513 Batch_id=390 Accuracy=66.98: 100%|██████████| 391/391 [00:21<00:00, 18.31it/s]\n"
          ]
        },
        {
          "output_type": "stream",
          "name": "stdout",
          "text": [
            "Test set: Average loss: 0.6524, Accuracy: 7771/10000 (77.71%)\n",
            "\n",
            "Epoch 32\n"
          ]
        },
        {
          "output_type": "stream",
          "name": "stderr",
          "text": [
            "Train: Loss=1.0608 Batch_id=390 Accuracy=67.25: 100%|██████████| 391/391 [00:21<00:00, 18.09it/s]\n"
          ]
        },
        {
          "output_type": "stream",
          "name": "stdout",
          "text": [
            "Test set: Average loss: 0.6723, Accuracy: 7682/10000 (76.82%)\n",
            "\n",
            "Epoch 33\n"
          ]
        },
        {
          "output_type": "stream",
          "name": "stderr",
          "text": [
            "Train: Loss=1.0670 Batch_id=390 Accuracy=67.71: 100%|██████████| 391/391 [00:21<00:00, 17.82it/s]\n"
          ]
        },
        {
          "output_type": "stream",
          "name": "stdout",
          "text": [
            "Test set: Average loss: 0.6590, Accuracy: 7705/10000 (77.05%)\n",
            "\n",
            "Epoch 34\n"
          ]
        },
        {
          "output_type": "stream",
          "name": "stderr",
          "text": [
            "Train: Loss=0.8721 Batch_id=390 Accuracy=67.66: 100%|██████████| 391/391 [00:22<00:00, 17.63it/s]\n"
          ]
        },
        {
          "output_type": "stream",
          "name": "stdout",
          "text": [
            "Test set: Average loss: 0.6463, Accuracy: 7776/10000 (77.76%)\n",
            "\n",
            "Epoch 35\n"
          ]
        },
        {
          "output_type": "stream",
          "name": "stderr",
          "text": [
            "Train: Loss=0.7839 Batch_id=390 Accuracy=67.55: 100%|██████████| 391/391 [00:22<00:00, 17.59it/s]\n"
          ]
        },
        {
          "output_type": "stream",
          "name": "stdout",
          "text": [
            "Test set: Average loss: 0.6368, Accuracy: 7844/10000 (78.44%)\n",
            "\n",
            "Epoch 36\n"
          ]
        },
        {
          "output_type": "stream",
          "name": "stderr",
          "text": [
            "Train: Loss=0.9886 Batch_id=390 Accuracy=67.94: 100%|██████████| 391/391 [00:24<00:00, 16.02it/s]\n"
          ]
        },
        {
          "output_type": "stream",
          "name": "stdout",
          "text": [
            "Test set: Average loss: 0.6320, Accuracy: 7807/10000 (78.07%)\n",
            "\n",
            "Epoch 37\n"
          ]
        },
        {
          "output_type": "stream",
          "name": "stderr",
          "text": [
            "Train: Loss=0.9077 Batch_id=390 Accuracy=68.09: 100%|██████████| 391/391 [00:22<00:00, 17.08it/s]\n"
          ]
        },
        {
          "output_type": "stream",
          "name": "stdout",
          "text": [
            "Test set: Average loss: 0.6575, Accuracy: 7743/10000 (77.43%)\n",
            "\n",
            "Epoch 38\n"
          ]
        },
        {
          "output_type": "stream",
          "name": "stderr",
          "text": [
            "Train: Loss=1.0515 Batch_id=390 Accuracy=68.47: 100%|██████████| 391/391 [00:22<00:00, 17.51it/s]\n"
          ]
        },
        {
          "output_type": "stream",
          "name": "stdout",
          "text": [
            "Test set: Average loss: 0.6273, Accuracy: 7823/10000 (78.23%)\n",
            "\n",
            "Epoch 39\n"
          ]
        },
        {
          "output_type": "stream",
          "name": "stderr",
          "text": [
            "Train: Loss=1.0725 Batch_id=390 Accuracy=68.45: 100%|██████████| 391/391 [00:22<00:00, 17.24it/s]\n",
            "/usr/local/lib/python3.12/dist-packages/torch/utils/data/dataloader.py:627: UserWarning: This DataLoader will create 4 worker processes in total. Our suggested max number of worker in current system is 2, which is smaller than what this DataLoader is going to create. Please be aware that excessive worker creation might get DataLoader running slow or even freeze, lower the worker number to avoid potential slowness/freeze if necessary.\n",
            "  warnings.warn(\n"
          ]
        },
        {
          "output_type": "stream",
          "name": "stdout",
          "text": [
            "Test set: Average loss: 0.6318, Accuracy: 7793/10000 (77.93%)\n",
            "\n",
            "Epoch 40\n"
          ]
        },
        {
          "output_type": "stream",
          "name": "stderr",
          "text": [
            "Train: Loss=1.0355 Batch_id=390 Accuracy=68.49: 100%|██████████| 391/391 [00:21<00:00, 18.40it/s]\n"
          ]
        },
        {
          "output_type": "stream",
          "name": "stdout",
          "text": [
            "Test set: Average loss: 0.6158, Accuracy: 7870/10000 (78.70%)\n",
            "\n",
            "Epoch 41\n"
          ]
        },
        {
          "output_type": "stream",
          "name": "stderr",
          "text": [
            "Train: Loss=0.8088 Batch_id=390 Accuracy=68.53: 100%|██████████| 391/391 [00:20<00:00, 18.63it/s]\n"
          ]
        },
        {
          "output_type": "stream",
          "name": "stdout",
          "text": [
            "Test set: Average loss: 0.6176, Accuracy: 7877/10000 (78.77%)\n",
            "\n",
            "Epoch 42\n"
          ]
        },
        {
          "output_type": "stream",
          "name": "stderr",
          "text": [
            "Train: Loss=0.8362 Batch_id=390 Accuracy=68.79: 100%|██████████| 391/391 [00:22<00:00, 17.74it/s]\n"
          ]
        },
        {
          "output_type": "stream",
          "name": "stdout",
          "text": [
            "Test set: Average loss: 0.6127, Accuracy: 7886/10000 (78.86%)\n",
            "\n",
            "Epoch 43\n"
          ]
        },
        {
          "output_type": "stream",
          "name": "stderr",
          "text": [
            "Train: Loss=0.9204 Batch_id=390 Accuracy=69.16: 100%|██████████| 391/391 [00:22<00:00, 17.61it/s]\n"
          ]
        },
        {
          "output_type": "stream",
          "name": "stdout",
          "text": [
            "Test set: Average loss: 0.6137, Accuracy: 7887/10000 (78.87%)\n",
            "\n",
            "Epoch 44\n"
          ]
        },
        {
          "output_type": "stream",
          "name": "stderr",
          "text": [
            "Train: Loss=1.2755 Batch_id=390 Accuracy=68.88: 100%|██████████| 391/391 [00:22<00:00, 17.60it/s]\n"
          ]
        },
        {
          "output_type": "stream",
          "name": "stdout",
          "text": [
            "Test set: Average loss: 0.5984, Accuracy: 7935/10000 (79.35%)\n",
            "\n",
            "Epoch 45\n"
          ]
        },
        {
          "output_type": "stream",
          "name": "stderr",
          "text": [
            "Train: Loss=0.8528 Batch_id=390 Accuracy=68.63: 100%|██████████| 391/391 [00:22<00:00, 17.45it/s]\n",
            "/usr/local/lib/python3.12/dist-packages/torch/utils/data/dataloader.py:627: UserWarning: This DataLoader will create 4 worker processes in total. Our suggested max number of worker in current system is 2, which is smaller than what this DataLoader is going to create. Please be aware that excessive worker creation might get DataLoader running slow or even freeze, lower the worker number to avoid potential slowness/freeze if necessary.\n",
            "  warnings.warn(\n"
          ]
        },
        {
          "output_type": "stream",
          "name": "stdout",
          "text": [
            "Test set: Average loss: 0.6224, Accuracy: 7806/10000 (78.06%)\n",
            "\n",
            "Epoch 46\n"
          ]
        },
        {
          "output_type": "stream",
          "name": "stderr",
          "text": [
            "Train: Loss=0.7917 Batch_id=390 Accuracy=68.77: 100%|██████████| 391/391 [00:21<00:00, 18.39it/s]\n",
            "/usr/local/lib/python3.12/dist-packages/torch/utils/data/dataloader.py:627: UserWarning: This DataLoader will create 4 worker processes in total. Our suggested max number of worker in current system is 2, which is smaller than what this DataLoader is going to create. Please be aware that excessive worker creation might get DataLoader running slow or even freeze, lower the worker number to avoid potential slowness/freeze if necessary.\n",
            "  warnings.warn(\n"
          ]
        },
        {
          "output_type": "stream",
          "name": "stdout",
          "text": [
            "Test set: Average loss: 0.6306, Accuracy: 7829/10000 (78.29%)\n",
            "\n",
            "Epoch 47\n"
          ]
        },
        {
          "output_type": "stream",
          "name": "stderr",
          "text": [
            "Train: Loss=1.0196 Batch_id=390 Accuracy=69.13: 100%|██████████| 391/391 [00:23<00:00, 16.75it/s]\n",
            "/usr/local/lib/python3.12/dist-packages/torch/utils/data/dataloader.py:627: UserWarning: This DataLoader will create 4 worker processes in total. Our suggested max number of worker in current system is 2, which is smaller than what this DataLoader is going to create. Please be aware that excessive worker creation might get DataLoader running slow or even freeze, lower the worker number to avoid potential slowness/freeze if necessary.\n",
            "  warnings.warn(\n"
          ]
        },
        {
          "output_type": "stream",
          "name": "stdout",
          "text": [
            "Test set: Average loss: 0.6007, Accuracy: 7935/10000 (79.35%)\n",
            "\n",
            "Epoch 48\n"
          ]
        },
        {
          "output_type": "stream",
          "name": "stderr",
          "text": [
            "Train: Loss=0.9504 Batch_id=390 Accuracy=69.19: 100%|██████████| 391/391 [00:21<00:00, 18.35it/s]\n",
            "/usr/local/lib/python3.12/dist-packages/torch/utils/data/dataloader.py:627: UserWarning: This DataLoader will create 4 worker processes in total. Our suggested max number of worker in current system is 2, which is smaller than what this DataLoader is going to create. Please be aware that excessive worker creation might get DataLoader running slow or even freeze, lower the worker number to avoid potential slowness/freeze if necessary.\n",
            "  warnings.warn(\n"
          ]
        },
        {
          "output_type": "stream",
          "name": "stdout",
          "text": [
            "Test set: Average loss: 0.6070, Accuracy: 7912/10000 (79.12%)\n",
            "\n",
            "Epoch 49\n"
          ]
        },
        {
          "output_type": "stream",
          "name": "stderr",
          "text": [
            "Train: Loss=0.7464 Batch_id=390 Accuracy=69.23: 100%|██████████| 391/391 [00:23<00:00, 16.49it/s]\n",
            "/usr/local/lib/python3.12/dist-packages/torch/utils/data/dataloader.py:627: UserWarning: This DataLoader will create 4 worker processes in total. Our suggested max number of worker in current system is 2, which is smaller than what this DataLoader is going to create. Please be aware that excessive worker creation might get DataLoader running slow or even freeze, lower the worker number to avoid potential slowness/freeze if necessary.\n",
            "  warnings.warn(\n"
          ]
        },
        {
          "output_type": "stream",
          "name": "stdout",
          "text": [
            "Test set: Average loss: 0.5987, Accuracy: 7921/10000 (79.21%)\n",
            "\n",
            "Epoch 50\n"
          ]
        },
        {
          "output_type": "stream",
          "name": "stderr",
          "text": [
            "Train: Loss=0.7242 Batch_id=390 Accuracy=69.52: 100%|██████████| 391/391 [00:21<00:00, 18.32it/s]\n"
          ]
        },
        {
          "output_type": "stream",
          "name": "stdout",
          "text": [
            "Test set: Average loss: 0.5872, Accuracy: 7985/10000 (79.85%)\n",
            "\n"
          ]
        },
        {
          "output_type": "display_data",
          "data": {
            "text/plain": [
              "<Figure size 1000x700 with 1 Axes>"
            ],
            "image/png": "[encoded data removed]"
          },
          "metadata": {}
        },
        {
          "output_type": "display_data",
          "data": {
            "text/plain": [
              "<Figure size 1000x700 with 1 Axes>"
            ],
            "image/png": "[encoded data removed]"
          },
          "metadata": {}
        }
      ]
    }
  ]
}
